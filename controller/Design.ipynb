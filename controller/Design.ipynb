{
 "cells": [
  {
   "cell_type": "code",
   "execution_count": 2202,
   "metadata": {},
   "outputs": [],
   "source": [
    "import numpy as np\n",
    "import sympy as sp\n",
    "import pandas as pd\n",
    "import os\n",
    "from sympy.parsing.sympy_parser import parse_expr\n",
    "import control"
   ]
  },
  {
   "cell_type": "code",
   "execution_count": 2203,
   "metadata": {},
   "outputs": [],
   "source": [
    "# Parameters\n",
    "r, Mb, rb, Ib, Mw, Iw, g, tau = sp.symbols('r M_b r_b I_b M_w I_w g tau')"
   ]
  },
  {
   "cell_type": "code",
   "execution_count": 2204,
   "metadata": {},
   "outputs": [],
   "source": [
    "subs_dict = {\n",
    "    Mb: 0.366,    # Body Mass\n",
    "    rb: 0.09,    # Pendulum center of mass\n",
    "    Ib: 0.0082,   # Body Inertia\n",
    "    Mw: 0.409 * 2,    # Wheel mass\n",
    "    Iw: 0.00029,   # Wheel inertia\n",
    "    r: 0.06,    # Wheel radius\n",
    "    g: 9.81     # Gravity\n",
    "}"
   ]
  },
  {
   "cell_type": "markdown",
   "metadata": {},
   "source": [
    "# Linear Controller Design"
   ]
  },
  {
   "cell_type": "markdown",
   "metadata": {},
   "source": [
    "State Space Function(Continuous and Discrete)"
   ]
  },
  {
   "cell_type": "code",
   "execution_count": 2205,
   "metadata": {},
   "outputs": [],
   "source": [
    "# Import linearied A and B\n",
    "with open('../dynamics/output/A.txt', 'r') as f:\n",
    "    A = parse_expr(f.read())\n",
    "\n",
    "with open('../dynamics/output/B.txt', 'r') as f:\n",
    "    B = parse_expr(f.read())\n",
    "\n",
    "# print(A)\n",
    "# print(B)"
   ]
  },
  {
   "cell_type": "code",
   "execution_count": 2206,
   "metadata": {},
   "outputs": [],
   "source": [
    "A_num = np.array(A.subs(subs_dict).evalf().tolist()).astype(np.float64)\n",
    "B_num = np.array(B.subs(subs_dict).evalf().tolist()).astype(np.float64)\n",
    "C_num = np.array([\n",
    "    [1, 0, 0, 0],   # x from encoder\n",
    "    [0, 1, 0, 0],   # ẋ\n",
    "    [0, 0, 1, 0],   # θ\n",
    "    [0, 0, 0, 1]    # θ̇\n",
    "])\n",
    "D_num = np.zeros((4, 1))\n",
    "\n",
    "sys = control.ss(A_num, B_num, C_num, D_num)"
   ]
  },
  {
   "cell_type": "code",
   "execution_count": 2207,
   "metadata": {},
   "outputs": [],
   "source": [
    "# discrete system initialization\n",
    "dt = 0.005\n",
    "sys_d = control.c2d(sys, dt)"
   ]
  },
  {
   "cell_type": "code",
   "execution_count": 2208,
   "metadata": {},
   "outputs": [],
   "source": [
    "os.makedirs('data/statespace_models', exist_ok=True)\n",
    "\n",
    "# --- Save continuous system as CSV ---\n",
    "pd.DataFrame(sys.A).to_csv('data/statespace_models/A_continuous.csv', index=False, header=False)\n",
    "pd.DataFrame(sys.B).to_csv('data/statespace_models/B_continuous.csv', index=False, header=False)\n",
    "pd.DataFrame(sys.C).to_csv('data/statespace_models/C_continuous.csv', index=False, header=False)\n",
    "pd.DataFrame(sys.D).to_csv('data/statespace_models/D_continuous.csv', index=False, header=False)\n",
    "\n",
    "# --- Save discrete system as CSV ---\n",
    "pd.DataFrame(sys_d.A).to_csv('data/statespace_models/A_discrete.csv', index=False, header=False)\n",
    "pd.DataFrame(sys_d.B).to_csv('data/statespace_models/B_discrete.csv', index=False, header=False)\n",
    "pd.DataFrame(sys_d.C).to_csv('data/statespace_models/C_discrete.csv', index=False, header=False)\n",
    "pd.DataFrame(sys_d.D).to_csv('data/statespace_models/D_discrete.csv', index=False, header=False)\n",
    "\n",
    "# Save dt (time step) as simple text file\n",
    "with open('data/statespace_models/dt_discrete.txt', 'w') as f:\n",
    "    f.write(str(sys_d.dt))\n"
   ]
  },
  {
   "cell_type": "markdown",
   "metadata": {},
   "source": [
    "## Controllability and Observability"
   ]
  },
  {
   "cell_type": "code",
   "execution_count": 2209,
   "metadata": {},
   "outputs": [
    {
     "name": "stdout",
     "output_type": "stream",
     "text": [
      "Rank of ctrb: 4\n"
     ]
    }
   ],
   "source": [
    "ctrb_matrix = control.ctrb(A_num, B_num)\n",
    "print(\"Rank of ctrb:\", np.linalg.matrix_rank(ctrb_matrix))"
   ]
  },
  {
   "cell_type": "code",
   "execution_count": 2210,
   "metadata": {},
   "outputs": [],
   "source": [
    "eigvals, eigvecs = np.linalg.eig(A_num)\n",
    "# for i, (eigval, eigvec) in enumerate(zip(eigvals, eigvecs.T)):\n",
    "#     print(f\"Eigenvalue {eigval:.4f}:\")\n",
    "#     print(f\"Corresponding eigenvector:\\n{eigvec}\\n\")"
   ]
  },
  {
   "cell_type": "code",
   "execution_count": 2211,
   "metadata": {},
   "outputs": [
    {
     "name": "stdout",
     "output_type": "stream",
     "text": [
      "4\n"
     ]
    }
   ],
   "source": [
    "O = control.obsv(sys.A, sys.C) \n",
    "print(np.linalg.matrix_rank(O))"
   ]
  },
  {
   "cell_type": "markdown",
   "metadata": {},
   "source": [
    "## LQR"
   ]
  },
  {
   "cell_type": "code",
   "execution_count": 2212,
   "metadata": {},
   "outputs": [
    {
     "name": "stdout",
     "output_type": "stream",
     "text": [
      "LQR gain K: [[0.57735027 1.91360849 5.35670085 2.08410568]]\n",
      "LQR gain E: [-255.09460549+0.j           -0.45613351+0.j\n",
      "   -1.14637831+0.85802351j   -1.14637831-0.85802351j]\n"
     ]
    }
   ],
   "source": [
    "Q = np.array([\n",
    "    [1, 0, 0, 0],\n",
    "    [0, 5, 0, 0],\n",
    "    [0, 0, 10, 0],\n",
    "    [0, 0, 0, 10]\n",
    "])\n",
    "R = np.array([[3]])\n",
    "K, S, E = control.lqr(sys.A, sys.B, Q, R)\n",
    "print(\"LQR gain K:\", K)\n",
    "print(\"LQR gain E:\", E)"
   ]
  },
  {
   "cell_type": "code",
   "execution_count": 2213,
   "metadata": {},
   "outputs": [],
   "source": [
    "# Ensure the folder exists\n",
    "os.makedirs('data/gain_matrices', exist_ok=True)\n",
    "\n",
    "# Save the K matrix\n",
    "pd.DataFrame(K).to_csv('data/gain_matrices/K_Continuous.csv', index=False, header=False)"
   ]
  },
  {
   "cell_type": "code",
   "execution_count": 2214,
   "metadata": {},
   "outputs": [],
   "source": [
    "# A_cl = A_num - B_num @ K\n",
    "# eigvals, eigvecs = np.linalg.eig(A_cl)\n",
    "# for i, (eigval, eigvec) in enumerate(zip(eigvals, eigvecs.T)):\n",
    "#     print(f\"Eigenvalue {eigval:.4f}:\")\n",
    "#     print(f\"Corresponding eigenvector:\\n{eigvec}\\n\")\n",
    "# sys_cl = control.ss(A_cl, B_num, C_num, D_num)"
   ]
  },
  {
   "cell_type": "code",
   "execution_count": 2215,
   "metadata": {},
   "outputs": [],
   "source": [
    "# # Gramian\n",
    "# Wc = solve_continuous_lyapunov(A_cl, -B_num @ B_num.T)\n",
    "# print(\"Controllability Gramian (via SciPy):\\n\", Wc)\n"
   ]
  },
  {
   "cell_type": "markdown",
   "metadata": {},
   "source": [
    "## Discrete LQR"
   ]
  },
  {
   "cell_type": "code",
   "execution_count": 2216,
   "metadata": {},
   "outputs": [
    {
     "name": "stdout",
     "output_type": "stream",
     "text": [
      "LQR gain K: [[ 0.10045949 10.08750993 12.59321803  2.54164549]]\n",
      "LQR gain E: [0.10594577+0.j         0.99995   +0.j         0.97602013+0.00232763j\n",
      " 0.97602013-0.00232763j]\n"
     ]
    }
   ],
   "source": [
    "Q_d = np.array([\n",
    "    [0.1, 0, 0, 0],\n",
    "    [0, 1000, 0, 0],\n",
    "    [0, 0, 10, 0],\n",
    "    [0, 0, 0, 1]\n",
    "])\n",
    "R_d = np.array([[1]])\n",
    "K_d, S_d, E_d = control.dlqr(sys_d.A, sys_d.B, Q_d, R_d)\n",
    "print(\"LQR gain K:\", K_d)\n",
    "print(\"LQR gain E:\", E_d)"
   ]
  },
  {
   "cell_type": "code",
   "execution_count": 2217,
   "metadata": {},
   "outputs": [],
   "source": [
    "# Ensure the folder exists\n",
    "os.makedirs('data/gain_matrices', exist_ok=True)\n",
    "\n",
    "# Save the K matrix\n",
    "pd.DataFrame(K_d).to_csv('data/gain_matrices/K_Discrete.csv', index=False, header=False)"
   ]
  },
  {
   "cell_type": "markdown",
   "metadata": {},
   "source": [
    "## LQG"
   ]
  },
  {
   "cell_type": "code",
   "execution_count": 2218,
   "metadata": {},
   "outputs": [
    {
     "name": "stdout",
     "output_type": "stream",
     "text": [
      "[[ 1.03058573e+01  1.69723476e-01 -3.32523450e-03 -1.41885111e-02]\n",
      " [ 3.39446952e+00  2.10808302e+00 -9.71695498e-02 -3.30159358e-01]\n",
      " [-3.32523450e-02 -4.85847749e-02  1.62630956e+00  3.88968609e+00]\n",
      " [-1.41885111e-01 -1.65079679e-01  3.88968609e+00  1.54505803e+01]]\n"
     ]
    }
   ],
   "source": [
    "x_std = 0.01      # encoder error in meters\n",
    "dx_std = 0.2       # IMU-integrated linear velocity (m/s)\n",
    "theta_std = 0.1    # integrated angle error (rad)\n",
    "dtheta_std = 0.1  # IMU gyro noise (rad/s)\n",
    "\n",
    "# Rn = np.diag([1e-6, 1e-6, 1e-6, 1e-6])  # reduce measurement noise → trust sensors\n",
    "Rn = np.diag([\n",
    "    (x_std),\n",
    "    (dx_std),\n",
    "    (theta_std),\n",
    "    (dtheta_std)\n",
    "])\n",
    "G = np.eye(4)\n",
    "# Qn = np.diag([1e6, 1e6, 1e6, 1e6])      # increase process noise → fast observer\n",
    "Qn = np.diag([\n",
    "    1,   # x\n",
    "    1,   # dx (e.g., friction force uncertainty)\n",
    "    1,   # theta (e.g., small external torque)\n",
    "    1    # dtheta (e.g., fast unmodeled torque effect)\n",
    "])\n",
    "L, P, E = control.lqe(sys.A, G, sys.C, Qn, Rn)\n",
    "print(L)"
   ]
  },
  {
   "cell_type": "code",
   "execution_count": 2219,
   "metadata": {},
   "outputs": [],
   "source": [
    "# Ensure the folder exists\n",
    "os.makedirs('data/gain_matrices', exist_ok=True)\n",
    "\n",
    "# Save the L matrix\n",
    "pd.DataFrame(L).to_csv('data/gain_matrices/L_Continuous.csv', index=False, header=False)"
   ]
  },
  {
   "cell_type": "markdown",
   "metadata": {},
   "source": [
    "## Discrete LQG"
   ]
  },
  {
   "cell_type": "code",
   "execution_count": 2220,
   "metadata": {},
   "outputs": [
    {
     "name": "stdout",
     "output_type": "stream",
     "text": [
      "[[ 9.90195784e-01  4.27662822e-03 -9.59008174e-06 -6.18461535e-08]\n",
      " [ 1.22355400e-04  8.54102140e-01 -3.78760149e-03 -2.05696298e-05]\n",
      " [-5.94411280e-08 -2.31785052e-05  9.16436154e-01  5.63177170e-03]\n",
      " [-1.82769923e-08 -7.09565789e-06  1.44676743e-01  9.16757042e-01]]\n",
      "[0.00980487+0.j         0.1458971 +0.j         0.08379539+0.00275977j\n",
      " 0.08379539-0.00275977j]\n"
     ]
    }
   ],
   "source": [
    "x_std_d = 0.01      # encoder error in meters\n",
    "dx_std_d = 0.2       # IMU-integrated linear velocity (m/s)\n",
    "theta_std_d = 0.1    # integrated angle error (rad)\n",
    "dtheta_std_d = 0.1  # IMU gyro noise (rad/s)\n",
    "\n",
    "\n",
    "# Rn = np.diag([1e-6, 1e-6, 1e-6, 1e-6])  # reduce measurement noise → trust sensors\n",
    "Rn_d = np.diag([\n",
    "    (x_std_d),\n",
    "    (dx_std_d),\n",
    "    (theta_std_d),\n",
    "    (dtheta_std_d)\n",
    "])\n",
    "G_d = np.eye(4)\n",
    "# Qn = np.diag([1e6, 1e6, 1e6, 1e6])      # increase process noise → fast observer\n",
    "Qn_d = np.diag([\n",
    "    100,   # x\n",
    "    100,   # dx (e.g., friction force uncertainty)\n",
    "    100,   # theta (e.g., small external torque)\n",
    "    100    # dtheta (e.g., fast unmodeled torque effect)\n",
    "])\n",
    "L_d, P_d, E_d = control.dlqe(sys_d.A, G_d, sys_d.C, Qn, Rn)\n",
    "print(L_d)\n",
    "print(E_d)"
   ]
  },
  {
   "cell_type": "code",
   "execution_count": 2221,
   "metadata": {},
   "outputs": [],
   "source": [
    "# Ensure the folder exists\n",
    "os.makedirs('data/gain_matrices', exist_ok=True)\n",
    "\n",
    "# Save the L matrix\n",
    "pd.DataFrame(L_d).to_csv('data/gain_matrices/L_Discrete.csv', index=False, header=False)"
   ]
  },
  {
   "cell_type": "markdown",
   "metadata": {},
   "source": [
    "# Nonlinear Controller Design"
   ]
  },
  {
   "cell_type": "code",
   "execution_count": 2222,
   "metadata": {},
   "outputs": [
    {
     "data": {
      "text/latex": [
       "$\\displaystyle \\left[\\begin{matrix}0 & 1 & 0 & 0\\\\0 & 0 & \\frac{0.358623393996421 \\tau \\sin{\\left(\\theta{\\left(t \\right)} \\right)} \\cos^{2}{\\left(\\theta{\\left(t \\right)} \\right)}}{\\left(1 - 0.0768539348317381 \\cos^{2}{\\left(\\theta{\\left(t \\right)} \\right)}\\right)^{2}} + \\frac{2.02584838322831 \\tau \\sin{\\left(\\theta{\\left(t \\right)} \\right)} \\cos{\\left(\\theta{\\left(t \\right)} \\right)}}{\\left(1 - 0.0768539348317381 \\cos^{2}{\\left(\\theta{\\left(t \\right)} \\right)}\\right)^{2}} + \\frac{0.000118584 \\tau \\sin{\\left(\\theta{\\left(t \\right)} \\right)}}{5.082572504 \\cdot 10^{-5} - 3.90615696 \\cdot 10^{-6} \\cos^{2}{\\left(\\theta{\\left(t \\right)} \\right)}} + \\frac{0.115886065608755 \\sin^{2}{\\left(\\theta{\\left(t \\right)} \\right)} \\cos^{2}{\\left(\\theta{\\left(t \\right)} \\right)}}{\\left(1 - 0.0768539348317381 \\cos^{2}{\\left(\\theta{\\left(t \\right)} \\right)}\\right)^{2}} - \\frac{0.00400388674461244 \\sin^{2}{\\left(\\theta{\\left(t \\right)} \\right)} \\cos{\\left(\\theta{\\left(t \\right)} \\right)} \\left(\\frac{d}{d t} \\theta{\\left(t \\right)}\\right)^{2}}{\\left(1 - 0.0768539348317381 \\cos^{2}{\\left(\\theta{\\left(t \\right)} \\right)}\\right)^{2}} + \\frac{3.83193997776 \\cdot 10^{-5} \\sin^{2}{\\left(\\theta{\\left(t \\right)} \\right)}}{5.082572504 \\cdot 10^{-5} - 3.90615696 \\cdot 10^{-6} \\cos^{2}{\\left(\\theta{\\left(t \\right)} \\right)}} - \\frac{3.83193997776 \\cdot 10^{-5} \\cos^{2}{\\left(\\theta{\\left(t \\right)} \\right)}}{5.082572504 \\cdot 10^{-5} - 3.90615696 \\cdot 10^{-6} \\cos^{2}{\\left(\\theta{\\left(t \\right)} \\right)}} + \\frac{1.3239429264 \\cdot 10^{-6} \\cos{\\left(\\theta{\\left(t \\right)} \\right)} \\left(\\frac{d}{d t} \\theta{\\left(t \\right)}\\right)^{2}}{5.082572504 \\cdot 10^{-5} - 3.90615696 \\cdot 10^{-6} \\cos^{2}{\\left(\\theta{\\left(t \\right)} \\right)}} & \\frac{2.6478858528 \\cdot 10^{-6} \\sin{\\left(\\theta{\\left(t \\right)} \\right)} \\frac{d}{d t} \\theta{\\left(t \\right)}}{5.082572504 \\cdot 10^{-5} - 3.90615696 \\cdot 10^{-6} \\cos^{2}{\\left(\\theta{\\left(t \\right)} \\right)}}\\\\0 & 0 & 0 & 1\\\\0 & 0 & - \\frac{5.97705656660701 \\tau \\sin{\\left(\\theta{\\left(t \\right)} \\right)} \\cos^{2}{\\left(\\theta{\\left(t \\right)} \\right)}}{\\left(1 - 0.0768539348317381 \\cos^{2}{\\left(\\theta{\\left(t \\right)} \\right)}\\right)^{2}} - \\frac{13.7674318527736 \\tau \\sin{\\left(\\theta{\\left(t \\right)} \\right)} \\cos{\\left(\\theta{\\left(t \\right)} \\right)}}{\\left(1 - 0.0768539348317381 \\cos^{2}{\\left(\\theta{\\left(t \\right)} \\right)}\\right)^{2}} - \\frac{0.0019764 \\tau \\sin{\\left(\\theta{\\left(t \\right)} \\right)}}{5.082572504 \\cdot 10^{-5} - 3.90615696 \\cdot 10^{-6} \\cos^{2}{\\left(\\theta{\\left(t \\right)} \\right)}} + \\frac{0.0118130545982421 \\sin^{2}{\\left(\\theta{\\left(t \\right)} \\right)} \\cos^{2}{\\left(\\theta{\\left(t \\right)} \\right)} \\left(\\frac{d}{d t} \\theta{\\left(t \\right)}\\right)^{2}}{\\left(1 - 0.0768539348317381 \\cos^{2}{\\left(\\theta{\\left(t \\right)} \\right)}\\right)^{2}} - \\frac{4.44882720330986 \\sin^{2}{\\left(\\theta{\\left(t \\right)} \\right)} \\cos{\\left(\\theta{\\left(t \\right)} \\right)}}{\\left(1 - 0.0768539348317381 \\cos^{2}{\\left(\\theta{\\left(t \\right)} \\right)}\\right)^{2}} + \\frac{3.90615696 \\cdot 10^{-6} \\sin^{2}{\\left(\\theta{\\left(t \\right)} \\right)} \\left(\\frac{d}{d t} \\theta{\\left(t \\right)}\\right)^{2}}{5.082572504 \\cdot 10^{-5} - 3.90615696 \\cdot 10^{-6} \\cos^{2}{\\left(\\theta{\\left(t \\right)} \\right)}} - \\frac{3.90615696 \\cdot 10^{-6} \\cos^{2}{\\left(\\theta{\\left(t \\right)} \\right)} \\left(\\frac{d}{d t} \\theta{\\left(t \\right)}\\right)^{2}}{5.082572504 \\cdot 10^{-5} - 3.90615696 \\cdot 10^{-6} \\cos^{2}{\\left(\\theta{\\left(t \\right)} \\right)}} + \\frac{0.00147106890936 \\cos{\\left(\\theta{\\left(t \\right)} \\right)}}{5.082572504 \\cdot 10^{-5} - 3.90615696 \\cdot 10^{-6} \\cos^{2}{\\left(\\theta{\\left(t \\right)} \\right)}} & - \\frac{7.81231392 \\cdot 10^{-6} \\sin{\\left(\\theta{\\left(t \\right)} \\right)} \\cos{\\left(\\theta{\\left(t \\right)} \\right)} \\frac{d}{d t} \\theta{\\left(t \\right)}}{5.082572504 \\cdot 10^{-5} - 3.90615696 \\cdot 10^{-6} \\cos^{2}{\\left(\\theta{\\left(t \\right)} \\right)}}\\end{matrix}\\right]$"
      ],
      "text/plain": [
       "Matrix([\n",
       "[0, 1,                                                                                                                                                                                                                                                                                                                                                                                                                                                                                                                                                                                                                                                                                                                                                                                                                              0,                                                                                                                    0],\n",
       "[0, 0,                   0.358623393996421*tau*sin(theta(t))*cos(theta(t))**2/(1 - 0.0768539348317381*cos(theta(t))**2)**2 + 2.02584838322831*tau*sin(theta(t))*cos(theta(t))/(1 - 0.0768539348317381*cos(theta(t))**2)**2 + 0.000118584*tau*sin(theta(t))/(5.082572504e-5 - 3.90615696e-6*cos(theta(t))**2) + 0.115886065608755*sin(theta(t))**2*cos(theta(t))**2/(1 - 0.0768539348317381*cos(theta(t))**2)**2 - 0.00400388674461244*sin(theta(t))**2*cos(theta(t))*Derivative(theta(t), t)**2/(1 - 0.0768539348317381*cos(theta(t))**2)**2 + 3.83193997776e-5*sin(theta(t))**2/(5.082572504e-5 - 3.90615696e-6*cos(theta(t))**2) - 3.83193997776e-5*cos(theta(t))**2/(5.082572504e-5 - 3.90615696e-6*cos(theta(t))**2) + 1.3239429264e-6*cos(theta(t))*Derivative(theta(t), t)**2/(5.082572504e-5 - 3.90615696e-6*cos(theta(t))**2),              2.6478858528e-6*sin(theta(t))*Derivative(theta(t), t)/(5.082572504e-5 - 3.90615696e-6*cos(theta(t))**2)],\n",
       "[0, 0,                                                                                                                                                                                                                                                                                                                                                                                                                                                                                                                                                                                                                                                                                                                                                                                                                              0,                                                                                                                    1],\n",
       "[0, 0, -5.97705656660701*tau*sin(theta(t))*cos(theta(t))**2/(1 - 0.0768539348317381*cos(theta(t))**2)**2 - 13.7674318527736*tau*sin(theta(t))*cos(theta(t))/(1 - 0.0768539348317381*cos(theta(t))**2)**2 - 0.0019764*tau*sin(theta(t))/(5.082572504e-5 - 3.90615696e-6*cos(theta(t))**2) + 0.0118130545982421*sin(theta(t))**2*cos(theta(t))**2*Derivative(theta(t), t)**2/(1 - 0.0768539348317381*cos(theta(t))**2)**2 - 4.44882720330986*sin(theta(t))**2*cos(theta(t))/(1 - 0.0768539348317381*cos(theta(t))**2)**2 + 3.90615696e-6*sin(theta(t))**2*Derivative(theta(t), t)**2/(5.082572504e-5 - 3.90615696e-6*cos(theta(t))**2) - 3.90615696e-6*cos(theta(t))**2*Derivative(theta(t), t)**2/(5.082572504e-5 - 3.90615696e-6*cos(theta(t))**2) + 0.00147106890936*cos(theta(t))/(5.082572504e-5 - 3.90615696e-6*cos(theta(t))**2), -7.81231392e-6*sin(theta(t))*cos(theta(t))*Derivative(theta(t), t)/(5.082572504e-5 - 3.90615696e-6*cos(theta(t))**2)]])"
      ]
     },
     "metadata": {},
     "output_type": "display_data"
    }
   ],
   "source": [
    "with open('../dynamics/output/A_func.txt', 'r') as f:\n",
    "    A_func = parse_expr(f.read())\n",
    "A_func_num = A_func.subs(subs_dict)\n",
    "display(A_func_num)\n",
    "# print(A_func_num)"
   ]
  },
  {
   "cell_type": "code",
   "execution_count": 2223,
   "metadata": {},
   "outputs": [
    {
     "data": {
      "text/latex": [
       "$\\displaystyle - \\frac{0.000118584 \\tau \\cos{\\left(\\theta{\\left(t \\right)} \\right)}}{5.082572504 \\cdot 10^{-5} - 3.90615696 \\cdot 10^{-6} \\cos^{2}{\\left(\\theta{\\left(t \\right)} \\right)}} - \\frac{0.000669876 \\tau}{5.082572504 \\cdot 10^{-5} - 3.90615696 \\cdot 10^{-6} \\cos^{2}{\\left(\\theta{\\left(t \\right)} \\right)}} - \\frac{3.83193997776 \\cdot 10^{-5} \\sin{\\left(\\theta{\\left(t \\right)} \\right)} \\cos{\\left(\\theta{\\left(t \\right)} \\right)}}{5.082572504 \\cdot 10^{-5} - 3.90615696 \\cdot 10^{-6} \\cos^{2}{\\left(\\theta{\\left(t \\right)} \\right)}} + \\frac{1.3239429264 \\cdot 10^{-6} \\sin{\\left(\\theta{\\left(t \\right)} \\right)} \\left(\\frac{d}{d t} \\theta{\\left(t \\right)}\\right)^{2}}{5.082572504 \\cdot 10^{-5} - 3.90615696 \\cdot 10^{-6} \\cos^{2}{\\left(\\theta{\\left(t \\right)} \\right)}}$"
      ],
      "text/plain": [
       "-0.000118584*tau*cos(theta(t))/(5.082572504e-5 - 3.90615696e-6*cos(theta(t))**2) - 0.000669876*tau/(5.082572504e-5 - 3.90615696e-6*cos(theta(t))**2) - 3.83193997776e-5*sin(theta(t))*cos(theta(t))/(5.082572504e-5 - 3.90615696e-6*cos(theta(t))**2) + 1.3239429264e-6*sin(theta(t))*Derivative(theta(t), t)**2/(5.082572504e-5 - 3.90615696e-6*cos(theta(t))**2)"
      ]
     },
     "metadata": {},
     "output_type": "display_data"
    },
    {
     "data": {
      "text/latex": [
       "$\\displaystyle \\frac{0.0019764 \\tau \\cos{\\left(\\theta{\\left(t \\right)} \\right)}}{5.082572504 \\cdot 10^{-5} - 3.90615696 \\cdot 10^{-6} \\cos^{2}{\\left(\\theta{\\left(t \\right)} \\right)}} + \\frac{0.0045524 \\tau}{5.082572504 \\cdot 10^{-5} - 3.90615696 \\cdot 10^{-6} \\cos^{2}{\\left(\\theta{\\left(t \\right)} \\right)}} - \\frac{3.90615696 \\cdot 10^{-6} \\sin{\\left(\\theta{\\left(t \\right)} \\right)} \\cos{\\left(\\theta{\\left(t \\right)} \\right)} \\left(\\frac{d}{d t} \\theta{\\left(t \\right)}\\right)^{2}}{5.082572504 \\cdot 10^{-5} - 3.90615696 \\cdot 10^{-6} \\cos^{2}{\\left(\\theta{\\left(t \\right)} \\right)}} + \\frac{0.00147106890936 \\sin{\\left(\\theta{\\left(t \\right)} \\right)}}{5.082572504 \\cdot 10^{-5} - 3.90615696 \\cdot 10^{-6} \\cos^{2}{\\left(\\theta{\\left(t \\right)} \\right)}}$"
      ],
      "text/plain": [
       "0.0019764*tau*cos(theta(t))/(5.082572504e-5 - 3.90615696e-6*cos(theta(t))**2) + 0.0045524*tau/(5.082572504e-5 - 3.90615696e-6*cos(theta(t))**2) - 3.90615696e-6*sin(theta(t))*cos(theta(t))*Derivative(theta(t), t)**2/(5.082572504e-5 - 3.90615696e-6*cos(theta(t))**2) + 0.00147106890936*sin(theta(t))/(5.082572504e-5 - 3.90615696e-6*cos(theta(t))**2)"
      ]
     },
     "metadata": {},
     "output_type": "display_data"
    }
   ],
   "source": [
    "with open('../dynamics/output/xdd_solution.txt', 'r') as f:\n",
    "    xdd_solution = parse_expr(f.read())\n",
    "\n",
    "with open('../dynamics/output/thetadd_solution.txt', 'r') as f:\n",
    "    thetadd_solution = parse_expr(f.read())\n",
    "\n",
    "xdd_partial = xdd_solution.subs(subs_dict)\n",
    "thetadd_partial = thetadd_solution.subs(subs_dict)\n",
    "display(xdd_partial)\n",
    "display(thetadd_partial)"
   ]
  },
  {
   "cell_type": "markdown",
   "metadata": {},
   "source": [
    "## Extended Kalman Filter"
   ]
  },
  {
   "cell_type": "markdown",
   "metadata": {},
   "source": [
    "<img src=\"Diagrams/EKF/EKF.png\" alt=\"Alt text\" width=\"600\" height=\"500\"/>"
   ]
  },
  {
   "cell_type": "code",
   "execution_count": 2224,
   "metadata": {},
   "outputs": [],
   "source": [
    "Qn_nonlinear = np.diag([\n",
    "    1,   # x\n",
    "    1,   # dx (e.g., friction force uncertainty)\n",
    "    1,   # theta (e.g., small external torque)\n",
    "    1    # dtheta (e.g., fast unmodeled torque effect)\n",
    "])"
   ]
  },
  {
   "cell_type": "code",
   "execution_count": 2225,
   "metadata": {},
   "outputs": [],
   "source": [
    "x_std_nonlinear = 0.01      # encoder error in meters\n",
    "dx_std_nonlinear = 0.2       # IMU-integrated linear velocity (m/s)\n",
    "theta_std_nonlinear = 0.1    # integrated angle error (rad)\n",
    "dtheta_std_nonlinear = 0.1  # IMU gyro noise (rad/s)\n",
    "\n",
    "\n",
    "# Rn = np.diag([1e-6, 1e-6, 1e-6, 1e-6])  # reduce measurement noise → trust sensors\n",
    "Rn_nonlinear = np.diag([\n",
    "    (1e-3),\n",
    "    (1e-3),\n",
    "    (1e-4),\n",
    "    (1e-4)\n",
    "])"
   ]
  },
  {
   "cell_type": "code",
   "execution_count": 2226,
   "metadata": {},
   "outputs": [],
   "source": [
    "# Ensure the folder exists\n",
    "os.makedirs('data/nonlinear_matrices', exist_ok=True)\n",
    "\n",
    "# Save the Qn matrix\n",
    "pd.DataFrame(Qn_nonlinear).to_csv('data/nonlinear_matrices/Qn.csv', index=False, header=False)\n",
    "# Save the Rn matrix\n",
    "pd.DataFrame(Rn_nonlinear).to_csv('data/nonlinear_matrices/Rn.csv', index=False, header=False)"
   ]
  }
 ],
 "metadata": {
  "kernelspec": {
   "display_name": "jerry",
   "language": "python",
   "name": "python3"
  },
  "language_info": {
   "codemirror_mode": {
    "name": "ipython",
    "version": 3
   },
   "file_extension": ".py",
   "mimetype": "text/x-python",
   "name": "python",
   "nbconvert_exporter": "python",
   "pygments_lexer": "ipython3",
   "version": "3.13.2"
  }
 },
 "nbformat": 4,
 "nbformat_minor": 2
}
