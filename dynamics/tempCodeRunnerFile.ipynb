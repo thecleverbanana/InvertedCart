os.makedirs('output', exist_ok=True)
output_lines = []

output_lines.append("xdd_solution:\n")
output_lines.append(str(xdd_solution) + "\n\n")

output_lines.append("thetadd_solution:\n")
output_lines.append(str(thetadd_solution) + "\n\n")

output_lines.append("A matrix:\n")
output_lines.append(str(A) + "\n\n")

output_lines.append("B matrix:\n")
output_lines.append(str(B) + "\n\n")

with open('output/Lagrange.txt', 'w') as f:
    f.writelines(output_lines)