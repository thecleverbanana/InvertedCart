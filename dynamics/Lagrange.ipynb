{
 "cells": [
  {
   "cell_type": "code",
   "execution_count": 291,
   "metadata": {},
   "outputs": [],
   "source": [
    "from IPython.display import display, Math\n",
    "import sympy as sp\n",
    "from sympy import sin, cos\n",
    "import os\n",
    "import pickle"
   ]
  },
  {
   "cell_type": "markdown",
   "metadata": {},
   "source": [
    "## Lagrange Calculator"
   ]
  },
  {
   "cell_type": "markdown",
   "metadata": {},
   "source": [
    "### Define Symbols"
   ]
  },
  {
   "cell_type": "code",
   "execution_count": 292,
   "metadata": {},
   "outputs": [],
   "source": [
    "# Time symbol\n",
    "t = sp.symbols('t')\n",
    "\n",
    "# Define functions of time\n",
    "x = sp.Function('x')(t)\n",
    "theta = sp.Function('theta')(t)\n",
    "\n",
    "# First derivatives\n",
    "dx = sp.diff(x, t)\n",
    "dtheta = sp.diff(theta, t)\n",
    "\n",
    "# Second derivatives\n",
    "ddx = sp.diff(dx, t)\n",
    "ddtheta = sp.diff(dtheta, t)"
   ]
  },
  {
   "cell_type": "code",
   "execution_count": 293,
   "metadata": {},
   "outputs": [],
   "source": [
    "# Parameters\n",
    "r, Mb, rb, Ib, Mw, Iw, g, tau = sp.symbols('r M_b r_b I_b M_w I_w g tau')"
   ]
  },
  {
   "cell_type": "markdown",
   "metadata": {},
   "source": [
    "#### Define a Latex Converter For Better Readability"
   ]
  },
  {
   "cell_type": "code",
   "execution_count": 294,
   "metadata": {},
   "outputs": [],
   "source": [
    "def Latex_Dmath_Converter(expr, header, collect_flag=True):\n",
    "    # Define symbols and functions\n",
    "    t, r = sp.symbols('t r')\n",
    "    x_func = sp.Function('x')(t)\n",
    "    theta_func = sp.Function('theta')(t)\n",
    "\n",
    "    # Define derivatives\n",
    "    dx = sp.diff(x_func, t)\n",
    "    ddx = sp.diff(x_func, t, 2)\n",
    "    dtheta = sp.diff(theta_func, t)\n",
    "    ddtheta = sp.diff(theta_func, t, 2)\n",
    "\n",
    "    # LaTeX symbol mapping\n",
    "    subs_dict = {\n",
    "        x_func: sp.Symbol('x'),\n",
    "        theta_func: sp.Symbol(r'\\theta'),\n",
    "        dx: sp.Symbol(r'\\dot{x}'),\n",
    "        ddx: sp.Symbol(r'\\ddot{x}'),\n",
    "        dtheta: sp.Symbol(r'\\dot{\\theta}'),\n",
    "        ddtheta: sp.Symbol(r'\\ddot{\\theta}'),\n",
    "    }\n",
    "\n",
    "    # Apply substitution\n",
    "    expr_sub = expr.subs(subs_dict)\n",
    "\n",
    "    # Check if expr is an equation (Eq)\n",
    "    if isinstance(expr_sub, sp.Equality):\n",
    "        lhs, rhs = expr_sub.lhs, expr_sub.rhs\n",
    "\n",
    "        # Optionally collect terms on lhs and rhs\n",
    "        if collect_flag:\n",
    "            collect_symbols = list(subs_dict.values())\n",
    "            lhs_collected = sp.collect(lhs, collect_symbols)\n",
    "            rhs_collected = sp.collect(rhs, collect_symbols)\n",
    "\n",
    "            lhs_latex = sp.latex(lhs_collected)\n",
    "            rhs_latex = sp.latex(rhs_collected)\n",
    "\n",
    "        else:\n",
    "            lhs_latex = sp.latex(lhs)\n",
    "            rhs_latex = sp.latex(rhs)\n",
    "\n",
    "        latex_str = f\"{lhs_latex} = {rhs_latex}\"\n",
    "\n",
    "    else:\n",
    "        # If not an equation\n",
    "        if collect_flag:\n",
    "            collect_symbols = list(subs_dict.values())\n",
    "            expr_sub_collect = sp.collect(expr_sub, collect_symbols)\n",
    "            latex_str = sp.latex(expr_sub_collect)\n",
    "        else:\n",
    "            latex_str = sp.latex(expr_sub)\n",
    "\n",
    "\n",
    "    # Output\n",
    "    print(r\"\\begin{multline*}\")\n",
    "    print(header, latex_str)\n",
    "    print(r\"\\end{multline*}\")\n",
    "\n",
    "    return(f\"{header}{latex_str}\")\n"
   ]
  },
  {
   "cell_type": "markdown",
   "metadata": {},
   "source": [
    "### Kinematic and Potential Terms"
   ]
  },
  {
   "cell_type": "code",
   "execution_count": 295,
   "metadata": {},
   "outputs": [],
   "source": [
    "T1 = (1/2)*Mw*(dx**2) # Wheel Translation K\n",
    "T2 = (1/2)*Iw*((dx/r)**2) # Wheel Rotatory K\n",
    "T3 = (1/2)*Mb*((dx**2)+(2*dx*(dtheta)*rb*cos(theta))+((dtheta)**2)*(rb**2)) # Body Translation K\n",
    "T4 = (1/2)*Ib*((dtheta)**2)# Wheel Rotatory K\n",
    "T = T1+T2+T3+T4"
   ]
  },
  {
   "cell_type": "code",
   "execution_count": 296,
   "metadata": {},
   "outputs": [],
   "source": [
    "V = Mb*g*rb*cos(theta)"
   ]
  },
  {
   "cell_type": "code",
   "execution_count": 297,
   "metadata": {},
   "outputs": [],
   "source": [
    "L = T-V"
   ]
  },
  {
   "cell_type": "code",
   "execution_count": 298,
   "metadata": {},
   "outputs": [
    {
     "name": "stdout",
     "output_type": "stream",
     "text": [
      "\\begin{multline*}\n",
      "T= 0.5 I_{b} \\dot{\\theta}^{2} + \\frac{0.5 I_{w} \\dot{x}^{2}}{r^{2}} + 0.5 M_{b} \\left(\\dot{\\theta}^{2} r_{b}^{2} + 2 \\dot{\\theta} \\dot{x} r_{b} \\cos{\\left(\\theta \\right)} + \\dot{x}^{2}\\right) + 0.5 M_{w} \\dot{x}^{2}\n",
      "\\end{multline*}\n",
      "\\begin{multline*}\n",
      "V= M_{b} g r_{b} \\cos{\\left(\\theta \\right)}\n",
      "\\end{multline*}\n",
      "\\begin{multline*}\n",
      "L= 0.5 I_{b} \\dot{\\theta}^{2} + \\frac{0.5 I_{w} \\dot{x}^{2}}{r^{2}} - M_{b} g r_{b} \\cos{\\left(\\theta \\right)} + 0.5 M_{b} \\left(\\dot{\\theta}^{2} r_{b}^{2} + 2 \\dot{\\theta} \\dot{x} r_{b} \\cos{\\left(\\theta \\right)} + \\dot{x}^{2}\\right) + 0.5 M_{w} \\dot{x}^{2}\n",
      "\\end{multline*}\n"
     ]
    }
   ],
   "source": [
    "T_expr = Latex_Dmath_Converter(T,r\"T=\",False)\n",
    "V_expr =Latex_Dmath_Converter(V,r\"V=\",False)\n",
    "L_expr =Latex_Dmath_Converter(L,r\"L=\",False)"
   ]
  },
  {
   "cell_type": "code",
   "execution_count": 299,
   "metadata": {},
   "outputs": [
    {
     "data": {
      "text/latex": [
       "$\\displaystyle T=0.5 I_{b} \\dot{\\theta}^{2} + \\frac{0.5 I_{w} \\dot{x}^{2}}{r^{2}} + 0.5 M_{b} \\left(\\dot{\\theta}^{2} r_{b}^{2} + 2 \\dot{\\theta} \\dot{x} r_{b} \\cos{\\left(\\theta \\right)} + \\dot{x}^{2}\\right) + 0.5 M_{w} \\dot{x}^{2}$"
      ],
      "text/plain": [
       "<IPython.core.display.Math object>"
      ]
     },
     "metadata": {},
     "output_type": "display_data"
    },
    {
     "data": {
      "text/latex": [
       "$\\displaystyle V=M_{b} g r_{b} \\cos{\\left(\\theta \\right)}$"
      ],
      "text/plain": [
       "<IPython.core.display.Math object>"
      ]
     },
     "metadata": {},
     "output_type": "display_data"
    },
    {
     "data": {
      "text/latex": [
       "$\\displaystyle L=0.5 I_{b} \\dot{\\theta}^{2} + \\frac{0.5 I_{w} \\dot{x}^{2}}{r^{2}} - M_{b} g r_{b} \\cos{\\left(\\theta \\right)} + 0.5 M_{b} \\left(\\dot{\\theta}^{2} r_{b}^{2} + 2 \\dot{\\theta} \\dot{x} r_{b} \\cos{\\left(\\theta \\right)} + \\dot{x}^{2}\\right) + 0.5 M_{w} \\dot{x}^{2}$"
      ],
      "text/plain": [
       "<IPython.core.display.Math object>"
      ]
     },
     "metadata": {},
     "output_type": "display_data"
    }
   ],
   "source": [
    "display(Math(T_expr))\n",
    "display(Math(V_expr))\n",
    "display(Math(L_expr))"
   ]
  },
  {
   "cell_type": "markdown",
   "metadata": {},
   "source": [
    "### Generalized Coordinates Functions"
   ]
  },
  {
   "cell_type": "code",
   "execution_count": 300,
   "metadata": {},
   "outputs": [],
   "source": [
    "def coordinate_x(L, RHS):\n",
    "    dL_ddx = sp.diff(L, dx)\n",
    "    d_dt_dL_ddx = sp.diff(dL_ddx, t)\n",
    "    dL_dx = sp.diff(L, x)\n",
    "    \n",
    "    lagrange_eq = sp.Eq(d_dt_dL_ddx - dL_dx, RHS)\n",
    "    return dL_ddx, d_dt_dL_ddx, dL_dx, lagrange_eq\n",
    "\n",
    "\n",
    "def coordinate_theta(L, RHS):\n",
    "    dL_ddtheta = sp.diff(L, dtheta)\n",
    "    d_dt_dL_ddtheta = sp.diff(dL_ddtheta, t)\n",
    "    dL_dtheta = sp.diff(L, theta)\n",
    "\n",
    "    lagrange_eq = sp.Eq(d_dt_dL_ddtheta - dL_dtheta, RHS)\n",
    "    return dL_ddtheta, d_dt_dL_ddtheta, dL_dtheta, lagrange_eq"
   ]
  },
  {
   "cell_type": "markdown",
   "metadata": {},
   "source": [
    "###  Calculate the diff"
   ]
  },
  {
   "cell_type": "code",
   "execution_count": 301,
   "metadata": {},
   "outputs": [],
   "source": [
    "dL_ddx, d_dt_dL_ddx, dL_dx, lagrange_eq_x = coordinate_x(L, -tau/r)\n",
    "dL_ddtheta, d_dt_dL_ddtheta, dL_dtheta, lagrange_eq_theta = coordinate_theta(L, tau)"
   ]
  },
  {
   "cell_type": "code",
   "execution_count": 302,
   "metadata": {},
   "outputs": [
    {
     "name": "stdout",
     "output_type": "stream",
     "text": [
      "M_b*g*r_b*sin(theta(t)) - 1.0*M_b*r_b*sin(theta(t))*Derivative(theta(t), t)*Derivative(x(t), t)\n",
      "Eq(1.0*I_w*Derivative(x(t), (t, 2))/r**2 + 0.5*M_b*(-2*r_b*sin(theta(t))*Derivative(theta(t), t)**2 + 2*r_b*cos(theta(t))*Derivative(theta(t), (t, 2)) + 2*Derivative(x(t), (t, 2))) + 1.0*M_w*Derivative(x(t), (t, 2)), -tau/r)\n",
      "Eq(1.0*I_b*Derivative(theta(t), (t, 2)) - M_b*g*r_b*sin(theta(t)) + 1.0*M_b*r_b*sin(theta(t))*Derivative(theta(t), t)*Derivative(x(t), t) + 0.5*M_b*(2*r_b**2*Derivative(theta(t), (t, 2)) - 2*r_b*sin(theta(t))*Derivative(theta(t), t)*Derivative(x(t), t) + 2*r_b*cos(theta(t))*Derivative(x(t), (t, 2))), tau)\n"
     ]
    }
   ],
   "source": [
    "print(dL_dtheta)\n",
    "print(lagrange_eq_x)\n",
    "print(lagrange_eq_theta)"
   ]
  },
  {
   "cell_type": "markdown",
   "metadata": {},
   "source": [
    "#### Print For Latex"
   ]
  },
  {
   "cell_type": "code",
   "execution_count": 303,
   "metadata": {},
   "outputs": [
    {
     "name": "stdout",
     "output_type": "stream",
     "text": [
      "\\begin{multline*}\n",
      "\\frac{\\partial L}{\\partial \\dot{x}}= 0.5 M_{b} \\left(2 \\dot{\\theta} r_{b} \\cos{\\left(\\theta \\right)} + 2 \\dot{x}\\right) + \\dot{x} \\left(\\frac{1.0 I_{w}}{r^{2}} + 1.0 M_{w}\\right)\n",
      "\\end{multline*}\n",
      "\\begin{multline*}\n",
      "\\frac{d}{dt} \\left( \\frac{\\partial L}{\\partial \\dot{x}} \\right) = 0.5 M_{b} \\left(2 \\ddot{\\theta} r_{b} \\cos{\\left(\\theta \\right)} + 2 \\ddot{x} - 2 \\dot{\\theta}^{2} r_{b} \\sin{\\left(\\theta \\right)}\\right) + \\ddot{x} \\left(\\frac{1.0 I_{w}}{r^{2}} + 1.0 M_{w}\\right)\n",
      "\\end{multline*}\n",
      "\\begin{multline*}\n",
      "\\frac{\\partial L}{\\partial x}= 0\n",
      "\\end{multline*}\n",
      "\\begin{multline*}\n",
      "\\text{Coordinate X: } 0.5 M_{b} \\left(2 \\ddot{\\theta} r_{b} \\cos{\\left(\\theta \\right)} + 2 \\ddot{x} - 2 \\dot{\\theta}^{2} r_{b} \\sin{\\left(\\theta \\right)}\\right) + \\ddot{x} \\left(\\frac{1.0 I_{w}}{r^{2}} + 1.0 M_{w}\\right) = - \\frac{\\tau}{r}\n",
      "\\end{multline*}\n",
      "\\begin{multline*}\n",
      "\\frac{\\partial L}{\\partial \\dot{\\theta}}= 1.0 I_{b} \\dot{\\theta} + 0.5 M_{b} \\left(2 \\dot{\\theta} r_{b}^{2} + 2 \\dot{x} r_{b} \\cos{\\left(\\theta \\right)}\\right)\n",
      "\\end{multline*}\n",
      "\\begin{multline*}\n",
      "\\frac{d}{dt} \\left( \\frac{\\partial L}{\\partial \\dot{\\theta}} \\right) = 1.0 I_{b} \\ddot{\\theta} + 0.5 M_{b} \\left(2 \\ddot{\\theta} r_{b}^{2} + 2 \\ddot{x} r_{b} \\cos{\\left(\\theta \\right)} - 2 \\dot{\\theta} \\dot{x} r_{b} \\sin{\\left(\\theta \\right)}\\right)\n",
      "\\end{multline*}\n",
      "\\begin{multline*}\n",
      "\\frac{\\partial L}{\\partial \\theta}= - 1.0 M_{b} \\dot{\\theta} \\dot{x} r_{b} \\sin{\\left(\\theta \\right)} + M_{b} g r_{b} \\sin{\\left(\\theta \\right)}\n",
      "\\end{multline*}\n",
      "\\begin{multline*}\n",
      "\\text{Coordinate } \\theta:  1.0 I_{b} \\ddot{\\theta} + 1.0 M_{b} \\dot{\\theta} \\dot{x} r_{b} \\sin{\\left(\\theta \\right)} - M_{b} g r_{b} \\sin{\\left(\\theta \\right)} + 0.5 M_{b} \\left(2 \\ddot{\\theta} r_{b}^{2} + 2 \\ddot{x} r_{b} \\cos{\\left(\\theta \\right)} - 2 \\dot{\\theta} \\dot{x} r_{b} \\sin{\\left(\\theta \\right)}\\right) = \\tau\n",
      "\\end{multline*}\n"
     ]
    }
   ],
   "source": [
    "dL_ddx_expr = Latex_Dmath_Converter(dL_ddx, r\"\\frac{\\partial L}{\\partial \\dot{x}}=\")\n",
    "d_dt_dL_ddx_expr = Latex_Dmath_Converter(d_dt_dL_ddx, r\"\\frac{d}{dt} \\left( \\frac{\\partial L}{\\partial \\dot{x}} \\right) =\")\n",
    "dL_dx_expr = Latex_Dmath_Converter(dL_dx, r\"\\frac{\\partial L}{\\partial x}=\")\n",
    "lagrange_eq_x_expr = Latex_Dmath_Converter(lagrange_eq_x, r\"\\text{Coordinate X: }\")\n",
    "\n",
    "dL_ddtheta_expr = Latex_Dmath_Converter(dL_ddtheta, r\"\\frac{\\partial L}{\\partial \\dot{\\theta}}=\")\n",
    "d_dt_dL_ddtheta_expr = Latex_Dmath_Converter(d_dt_dL_ddtheta, r\"\\frac{d}{dt} \\left( \\frac{\\partial L}{\\partial \\dot{\\theta}} \\right) =\")\n",
    "dL_dtheta_expr = Latex_Dmath_Converter(dL_dtheta, r\"\\frac{\\partial L}{\\partial \\theta}=\")\n",
    "lagrange_eq_theta_expr = Latex_Dmath_Converter(lagrange_eq_theta, r\"\\text{Coordinate } \\theta: \")\n",
    "\n"
   ]
  },
  {
   "cell_type": "code",
   "execution_count": 304,
   "metadata": {},
   "outputs": [
    {
     "data": {
      "text/latex": [
       "$\\displaystyle \\text{Coordinate X: }0.5 M_{b} \\left(2 \\ddot{\\theta} r_{b} \\cos{\\left(\\theta \\right)} + 2 \\ddot{x} - 2 \\dot{\\theta}^{2} r_{b} \\sin{\\left(\\theta \\right)}\\right) + \\ddot{x} \\left(\\frac{1.0 I_{w}}{r^{2}} + 1.0 M_{w}\\right) = - \\frac{\\tau}{r}$"
      ],
      "text/plain": [
       "<IPython.core.display.Math object>"
      ]
     },
     "metadata": {},
     "output_type": "display_data"
    },
    {
     "data": {
      "text/latex": [
       "$\\displaystyle \\text{Coordinate } \\theta: 1.0 I_{b} \\ddot{\\theta} + 1.0 M_{b} \\dot{\\theta} \\dot{x} r_{b} \\sin{\\left(\\theta \\right)} - M_{b} g r_{b} \\sin{\\left(\\theta \\right)} + 0.5 M_{b} \\left(2 \\ddot{\\theta} r_{b}^{2} + 2 \\ddot{x} r_{b} \\cos{\\left(\\theta \\right)} - 2 \\dot{\\theta} \\dot{x} r_{b} \\sin{\\left(\\theta \\right)}\\right) = \\tau$"
      ],
      "text/plain": [
       "<IPython.core.display.Math object>"
      ]
     },
     "metadata": {},
     "output_type": "display_data"
    }
   ],
   "source": [
    "display(Math(lagrange_eq_x_expr))\n",
    "display(Math(lagrange_eq_theta_expr))"
   ]
  },
  {
   "cell_type": "markdown",
   "metadata": {},
   "source": [
    "Matrix Form"
   ]
  },
  {
   "cell_type": "code",
   "execution_count": 305,
   "metadata": {},
   "outputs": [],
   "source": [
    "eqs = [lagrange_eq_x.lhs-lagrange_eq_x.rhs, lagrange_eq_theta.lhs-lagrange_eq_theta.rhs]\n",
    "vars = [ddx, ddtheta]\n",
    "A, b = sp.linear_eq_to_matrix(eqs, vars)"
   ]
  },
  {
   "cell_type": "code",
   "execution_count": 306,
   "metadata": {},
   "outputs": [
    {
     "data": {
      "text/latex": [
       "$\\displaystyle \\left[\\begin{matrix}\\frac{1.0 I_{w}}{r^{2}} + 1.0 M_{b} + 1.0 M_{w} & 1.0 M_{b} r_{b} \\cos{\\left(\\theta{\\left(t \\right)} \\right)}\\\\1.0 M_{b} r_{b} \\cos{\\left(\\theta{\\left(t \\right)} \\right)} & 1.0 I_{b} + 1.0 M_{b} r_{b}^{2}\\end{matrix}\\right]$"
      ],
      "text/plain": [
       "Matrix([\n",
       "[1.0*I_w/r**2 + 1.0*M_b + 1.0*M_w, 1.0*M_b*r_b*cos(theta(t))],\n",
       "[       1.0*M_b*r_b*cos(theta(t)),  1.0*I_b + 1.0*M_b*r_b**2]])"
      ]
     },
     "metadata": {},
     "output_type": "display_data"
    },
    {
     "data": {
      "text/latex": [
       "$\\displaystyle \\left[\\begin{matrix}1.0 M_{b} r_{b} \\sin{\\left(\\theta{\\left(t \\right)} \\right)} \\left(\\frac{d}{d t} \\theta{\\left(t \\right)}\\right)^{2} - \\frac{\\tau}{r}\\\\M_{b} g r_{b} \\sin{\\left(\\theta{\\left(t \\right)} \\right)} + \\tau\\end{matrix}\\right]$"
      ],
      "text/plain": [
       "Matrix([\n",
       "[1.0*M_b*r_b*sin(theta(t))*Derivative(theta(t), t)**2 - tau/r],\n",
       "[                               M_b*g*r_b*sin(theta(t)) + tau]])"
      ]
     },
     "metadata": {},
     "output_type": "display_data"
    }
   ],
   "source": [
    "display(A)\n",
    "display(b)"
   ]
  },
  {
   "cell_type": "markdown",
   "metadata": {},
   "source": [
    "### Solve the Equation"
   ]
  },
  {
   "cell_type": "code",
   "execution_count": 307,
   "metadata": {},
   "outputs": [],
   "source": [
    "solutions = sp.solve([lagrange_eq_x, lagrange_eq_theta], (ddx, ddtheta))\n",
    "xdd_solution = solutions[ddx]\n",
    "thetadd_solution = solutions[ddtheta]"
   ]
  },
  {
   "cell_type": "code",
   "execution_count": 308,
   "metadata": {},
   "outputs": [
    {
     "name": "stdout",
     "output_type": "stream",
     "text": [
      "\\begin{multline*}\n",
      "\\ddot{x}= \\frac{I_{b} M_{b} \\dot{\\theta}^{2} r^{2} r_{b} \\sin{\\left(\\theta \\right)}}{I_{b} I_{w} + I_{b} M_{b} r^{2} + I_{b} M_{w} r^{2} + I_{w} M_{b} r_{b}^{2} - M_{b}^{2} r^{2} r_{b}^{2} \\cos^{2}{\\left(\\theta \\right)} + M_{b}^{2} r^{2} r_{b}^{2} + M_{b} M_{w} r^{2} r_{b}^{2}} - \\frac{I_{b} r \\tau}{I_{b} I_{w} + I_{b} M_{b} r^{2} + I_{b} M_{w} r^{2} + I_{w} M_{b} r_{b}^{2} - M_{b}^{2} r^{2} r_{b}^{2} \\cos^{2}{\\left(\\theta \\right)} + M_{b}^{2} r^{2} r_{b}^{2} + M_{b} M_{w} r^{2} r_{b}^{2}} + \\frac{M_{b}^{2} \\dot{\\theta}^{2} r^{2} r_{b}^{3} \\sin{\\left(\\theta \\right)}}{I_{b} I_{w} + I_{b} M_{b} r^{2} + I_{b} M_{w} r^{2} + I_{w} M_{b} r_{b}^{2} - M_{b}^{2} r^{2} r_{b}^{2} \\cos^{2}{\\left(\\theta \\right)} + M_{b}^{2} r^{2} r_{b}^{2} + M_{b} M_{w} r^{2} r_{b}^{2}} - \\frac{M_{b}^{2} g r^{2} r_{b}^{2} \\sin{\\left(\\theta \\right)} \\cos{\\left(\\theta \\right)}}{I_{b} I_{w} + I_{b} M_{b} r^{2} + I_{b} M_{w} r^{2} + I_{w} M_{b} r_{b}^{2} - M_{b}^{2} r^{2} r_{b}^{2} \\cos^{2}{\\left(\\theta \\right)} + M_{b}^{2} r^{2} r_{b}^{2} + M_{b} M_{w} r^{2} r_{b}^{2}} - \\frac{M_{b} r^{2} r_{b} \\tau \\cos{\\left(\\theta \\right)}}{I_{b} I_{w} + I_{b} M_{b} r^{2} + I_{b} M_{w} r^{2} + I_{w} M_{b} r_{b}^{2} - M_{b}^{2} r^{2} r_{b}^{2} \\cos^{2}{\\left(\\theta \\right)} + M_{b}^{2} r^{2} r_{b}^{2} + M_{b} M_{w} r^{2} r_{b}^{2}} - \\frac{M_{b} r r_{b}^{2} \\tau}{I_{b} I_{w} + I_{b} M_{b} r^{2} + I_{b} M_{w} r^{2} + I_{w} M_{b} r_{b}^{2} - M_{b}^{2} r^{2} r_{b}^{2} \\cos^{2}{\\left(\\theta \\right)} + M_{b}^{2} r^{2} r_{b}^{2} + M_{b} M_{w} r^{2} r_{b}^{2}}\n",
      "\\end{multline*}\n",
      "\\begin{multline*}\n",
      "\\ddot{\\theta}= \\frac{I_{w} M_{b} g r_{b} \\sin{\\left(\\theta \\right)}}{I_{b} I_{w} + I_{b} M_{b} r^{2} + I_{b} M_{w} r^{2} + I_{w} M_{b} r_{b}^{2} - M_{b}^{2} r^{2} r_{b}^{2} \\cos^{2}{\\left(\\theta \\right)} + M_{b}^{2} r^{2} r_{b}^{2} + M_{b} M_{w} r^{2} r_{b}^{2}} + \\frac{I_{w} \\tau}{I_{b} I_{w} + I_{b} M_{b} r^{2} + I_{b} M_{w} r^{2} + I_{w} M_{b} r_{b}^{2} - M_{b}^{2} r^{2} r_{b}^{2} \\cos^{2}{\\left(\\theta \\right)} + M_{b}^{2} r^{2} r_{b}^{2} + M_{b} M_{w} r^{2} r_{b}^{2}} - \\frac{M_{b}^{2} \\dot{\\theta}^{2} r^{2} r_{b}^{2} \\sin{\\left(\\theta \\right)} \\cos{\\left(\\theta \\right)}}{I_{b} I_{w} + I_{b} M_{b} r^{2} + I_{b} M_{w} r^{2} + I_{w} M_{b} r_{b}^{2} - M_{b}^{2} r^{2} r_{b}^{2} \\cos^{2}{\\left(\\theta \\right)} + M_{b}^{2} r^{2} r_{b}^{2} + M_{b} M_{w} r^{2} r_{b}^{2}} + \\frac{M_{b}^{2} g r^{2} r_{b} \\sin{\\left(\\theta \\right)}}{I_{b} I_{w} + I_{b} M_{b} r^{2} + I_{b} M_{w} r^{2} + I_{w} M_{b} r_{b}^{2} - M_{b}^{2} r^{2} r_{b}^{2} \\cos^{2}{\\left(\\theta \\right)} + M_{b}^{2} r^{2} r_{b}^{2} + M_{b} M_{w} r^{2} r_{b}^{2}} + \\frac{M_{b} M_{w} g r^{2} r_{b} \\sin{\\left(\\theta \\right)}}{I_{b} I_{w} + I_{b} M_{b} r^{2} + I_{b} M_{w} r^{2} + I_{w} M_{b} r_{b}^{2} - M_{b}^{2} r^{2} r_{b}^{2} \\cos^{2}{\\left(\\theta \\right)} + M_{b}^{2} r^{2} r_{b}^{2} + M_{b} M_{w} r^{2} r_{b}^{2}} + \\frac{M_{b} r^{2} \\tau}{I_{b} I_{w} + I_{b} M_{b} r^{2} + I_{b} M_{w} r^{2} + I_{w} M_{b} r_{b}^{2} - M_{b}^{2} r^{2} r_{b}^{2} \\cos^{2}{\\left(\\theta \\right)} + M_{b}^{2} r^{2} r_{b}^{2} + M_{b} M_{w} r^{2} r_{b}^{2}} + \\frac{M_{b} r r_{b} \\tau \\cos{\\left(\\theta \\right)}}{I_{b} I_{w} + I_{b} M_{b} r^{2} + I_{b} M_{w} r^{2} + I_{w} M_{b} r_{b}^{2} - M_{b}^{2} r^{2} r_{b}^{2} \\cos^{2}{\\left(\\theta \\right)} + M_{b}^{2} r^{2} r_{b}^{2} + M_{b} M_{w} r^{2} r_{b}^{2}} + \\frac{M_{w} r^{2} \\tau}{I_{b} I_{w} + I_{b} M_{b} r^{2} + I_{b} M_{w} r^{2} + I_{w} M_{b} r_{b}^{2} - M_{b}^{2} r^{2} r_{b}^{2} \\cos^{2}{\\left(\\theta \\right)} + M_{b}^{2} r^{2} r_{b}^{2} + M_{b} M_{w} r^{2} r_{b}^{2}}\n",
      "\\end{multline*}\n"
     ]
    }
   ],
   "source": [
    "xdd_solution_expr = Latex_Dmath_Converter(xdd_solution,r\"\\ddot{x}=\", collect_flag=False)\n",
    "thetadd_solution_expr = Latex_Dmath_Converter(thetadd_solution,r\"\\ddot{\\theta}=\", collect_flag= False)"
   ]
  },
  {
   "cell_type": "code",
   "execution_count": 309,
   "metadata": {},
   "outputs": [
    {
     "data": {
      "text/latex": [
       "$\\displaystyle \\ddot{x}=\\frac{I_{b} M_{b} \\dot{\\theta}^{2} r^{2} r_{b} \\sin{\\left(\\theta \\right)}}{I_{b} I_{w} + I_{b} M_{b} r^{2} + I_{b} M_{w} r^{2} + I_{w} M_{b} r_{b}^{2} - M_{b}^{2} r^{2} r_{b}^{2} \\cos^{2}{\\left(\\theta \\right)} + M_{b}^{2} r^{2} r_{b}^{2} + M_{b} M_{w} r^{2} r_{b}^{2}} - \\frac{I_{b} r \\tau}{I_{b} I_{w} + I_{b} M_{b} r^{2} + I_{b} M_{w} r^{2} + I_{w} M_{b} r_{b}^{2} - M_{b}^{2} r^{2} r_{b}^{2} \\cos^{2}{\\left(\\theta \\right)} + M_{b}^{2} r^{2} r_{b}^{2} + M_{b} M_{w} r^{2} r_{b}^{2}} + \\frac{M_{b}^{2} \\dot{\\theta}^{2} r^{2} r_{b}^{3} \\sin{\\left(\\theta \\right)}}{I_{b} I_{w} + I_{b} M_{b} r^{2} + I_{b} M_{w} r^{2} + I_{w} M_{b} r_{b}^{2} - M_{b}^{2} r^{2} r_{b}^{2} \\cos^{2}{\\left(\\theta \\right)} + M_{b}^{2} r^{2} r_{b}^{2} + M_{b} M_{w} r^{2} r_{b}^{2}} - \\frac{M_{b}^{2} g r^{2} r_{b}^{2} \\sin{\\left(\\theta \\right)} \\cos{\\left(\\theta \\right)}}{I_{b} I_{w} + I_{b} M_{b} r^{2} + I_{b} M_{w} r^{2} + I_{w} M_{b} r_{b}^{2} - M_{b}^{2} r^{2} r_{b}^{2} \\cos^{2}{\\left(\\theta \\right)} + M_{b}^{2} r^{2} r_{b}^{2} + M_{b} M_{w} r^{2} r_{b}^{2}} - \\frac{M_{b} r^{2} r_{b} \\tau \\cos{\\left(\\theta \\right)}}{I_{b} I_{w} + I_{b} M_{b} r^{2} + I_{b} M_{w} r^{2} + I_{w} M_{b} r_{b}^{2} - M_{b}^{2} r^{2} r_{b}^{2} \\cos^{2}{\\left(\\theta \\right)} + M_{b}^{2} r^{2} r_{b}^{2} + M_{b} M_{w} r^{2} r_{b}^{2}} - \\frac{M_{b} r r_{b}^{2} \\tau}{I_{b} I_{w} + I_{b} M_{b} r^{2} + I_{b} M_{w} r^{2} + I_{w} M_{b} r_{b}^{2} - M_{b}^{2} r^{2} r_{b}^{2} \\cos^{2}{\\left(\\theta \\right)} + M_{b}^{2} r^{2} r_{b}^{2} + M_{b} M_{w} r^{2} r_{b}^{2}}$"
      ],
      "text/plain": [
       "<IPython.core.display.Math object>"
      ]
     },
     "metadata": {},
     "output_type": "display_data"
    },
    {
     "data": {
      "text/latex": [
       "$\\displaystyle \\ddot{\\theta}=\\frac{I_{w} M_{b} g r_{b} \\sin{\\left(\\theta \\right)}}{I_{b} I_{w} + I_{b} M_{b} r^{2} + I_{b} M_{w} r^{2} + I_{w} M_{b} r_{b}^{2} - M_{b}^{2} r^{2} r_{b}^{2} \\cos^{2}{\\left(\\theta \\right)} + M_{b}^{2} r^{2} r_{b}^{2} + M_{b} M_{w} r^{2} r_{b}^{2}} + \\frac{I_{w} \\tau}{I_{b} I_{w} + I_{b} M_{b} r^{2} + I_{b} M_{w} r^{2} + I_{w} M_{b} r_{b}^{2} - M_{b}^{2} r^{2} r_{b}^{2} \\cos^{2}{\\left(\\theta \\right)} + M_{b}^{2} r^{2} r_{b}^{2} + M_{b} M_{w} r^{2} r_{b}^{2}} - \\frac{M_{b}^{2} \\dot{\\theta}^{2} r^{2} r_{b}^{2} \\sin{\\left(\\theta \\right)} \\cos{\\left(\\theta \\right)}}{I_{b} I_{w} + I_{b} M_{b} r^{2} + I_{b} M_{w} r^{2} + I_{w} M_{b} r_{b}^{2} - M_{b}^{2} r^{2} r_{b}^{2} \\cos^{2}{\\left(\\theta \\right)} + M_{b}^{2} r^{2} r_{b}^{2} + M_{b} M_{w} r^{2} r_{b}^{2}} + \\frac{M_{b}^{2} g r^{2} r_{b} \\sin{\\left(\\theta \\right)}}{I_{b} I_{w} + I_{b} M_{b} r^{2} + I_{b} M_{w} r^{2} + I_{w} M_{b} r_{b}^{2} - M_{b}^{2} r^{2} r_{b}^{2} \\cos^{2}{\\left(\\theta \\right)} + M_{b}^{2} r^{2} r_{b}^{2} + M_{b} M_{w} r^{2} r_{b}^{2}} + \\frac{M_{b} M_{w} g r^{2} r_{b} \\sin{\\left(\\theta \\right)}}{I_{b} I_{w} + I_{b} M_{b} r^{2} + I_{b} M_{w} r^{2} + I_{w} M_{b} r_{b}^{2} - M_{b}^{2} r^{2} r_{b}^{2} \\cos^{2}{\\left(\\theta \\right)} + M_{b}^{2} r^{2} r_{b}^{2} + M_{b} M_{w} r^{2} r_{b}^{2}} + \\frac{M_{b} r^{2} \\tau}{I_{b} I_{w} + I_{b} M_{b} r^{2} + I_{b} M_{w} r^{2} + I_{w} M_{b} r_{b}^{2} - M_{b}^{2} r^{2} r_{b}^{2} \\cos^{2}{\\left(\\theta \\right)} + M_{b}^{2} r^{2} r_{b}^{2} + M_{b} M_{w} r^{2} r_{b}^{2}} + \\frac{M_{b} r r_{b} \\tau \\cos{\\left(\\theta \\right)}}{I_{b} I_{w} + I_{b} M_{b} r^{2} + I_{b} M_{w} r^{2} + I_{w} M_{b} r_{b}^{2} - M_{b}^{2} r^{2} r_{b}^{2} \\cos^{2}{\\left(\\theta \\right)} + M_{b}^{2} r^{2} r_{b}^{2} + M_{b} M_{w} r^{2} r_{b}^{2}} + \\frac{M_{w} r^{2} \\tau}{I_{b} I_{w} + I_{b} M_{b} r^{2} + I_{b} M_{w} r^{2} + I_{w} M_{b} r_{b}^{2} - M_{b}^{2} r^{2} r_{b}^{2} \\cos^{2}{\\left(\\theta \\right)} + M_{b}^{2} r^{2} r_{b}^{2} + M_{b} M_{w} r^{2} r_{b}^{2}}$"
      ],
      "text/plain": [
       "<IPython.core.display.Math object>"
      ]
     },
     "metadata": {},
     "output_type": "display_data"
    }
   ],
   "source": [
    "display(Math(xdd_solution_expr))\n",
    "display(Math(thetadd_solution_expr))"
   ]
  },
  {
   "cell_type": "markdown",
   "metadata": {},
   "source": [
    "Matrix Solution"
   ]
  },
  {
   "cell_type": "code",
   "execution_count": 310,
   "metadata": {},
   "outputs": [
    {
     "name": "stdout",
     "output_type": "stream",
     "text": [
      "Matrix([[(1.0*M_b*r_b*sin(theta(t))*Derivative(theta(t), t)**2 - 1.0*M_b*r_b*(M_b*g*r_b*sin(theta(t)) - 1.0*M_b*r_b*(1.0*M_b*r_b*sin(theta(t))*Derivative(theta(t), t)**2 - tau/r)*cos(theta(t))/(1.0*I_w/r**2 + 1.0*M_b + 1.0*M_w) + tau)*cos(theta(t))/(1.0*I_b - 1.0*M_b**2*r_b**2*cos(theta(t))**2/(1.0*I_w/r**2 + 1.0*M_b + 1.0*M_w) + 1.0*M_b*r_b**2) - tau/r)/(1.0*I_w/r**2 + 1.0*M_b + 1.0*M_w)], [(M_b*g*r_b*sin(theta(t)) - 1.0*M_b*r_b*(1.0*M_b*r_b*sin(theta(t))*Derivative(theta(t), t)**2 - tau/r)*cos(theta(t))/(1.0*I_w/r**2 + 1.0*M_b + 1.0*M_w) + tau)/(1.0*I_b - 1.0*M_b**2*r_b**2*cos(theta(t))**2/(1.0*I_w/r**2 + 1.0*M_b + 1.0*M_w) + 1.0*M_b*r_b**2)]])\n"
     ]
    }
   ],
   "source": [
    "solution_matrix = A.LUsolve(b)\n",
    "print(solution_matrix)\n",
    "xdd_matrix_solution = solution_matrix[0, 0]\n",
    "thetadd_matrix_solution = solution_matrix[1, 0]"
   ]
  },
  {
   "cell_type": "code",
   "execution_count": 311,
   "metadata": {},
   "outputs": [
    {
     "name": "stdout",
     "output_type": "stream",
     "text": [
      "\\begin{multline*}\n",
      "\\ddot{x}= \\frac{1.0 M_{b} \\dot{\\theta}^{2} r_{b} \\sin{\\left(\\theta \\right)} - \\frac{1.0 M_{b} r_{b} \\left(M_{b} g r_{b} \\sin{\\left(\\theta \\right)} - \\frac{1.0 M_{b} r_{b} \\left(1.0 M_{b} \\dot{\\theta}^{2} r_{b} \\sin{\\left(\\theta \\right)} - \\frac{\\tau}{r}\\right) \\cos{\\left(\\theta \\right)}}{\\frac{1.0 I_{w}}{r^{2}} + 1.0 M_{b} + 1.0 M_{w}} + \\tau\\right) \\cos{\\left(\\theta \\right)}}{1.0 I_{b} - \\frac{1.0 M_{b}^{2} r_{b}^{2} \\cos^{2}{\\left(\\theta \\right)}}{\\frac{1.0 I_{w}}{r^{2}} + 1.0 M_{b} + 1.0 M_{w}} + 1.0 M_{b} r_{b}^{2}} - \\frac{\\tau}{r}}{\\frac{1.0 I_{w}}{r^{2}} + 1.0 M_{b} + 1.0 M_{w}}\n",
      "\\end{multline*}\n",
      "\\begin{multline*}\n",
      "\\ddot{\\theta}= \\frac{M_{b} g r_{b} \\sin{\\left(\\theta \\right)} - \\frac{1.0 M_{b} r_{b} \\left(1.0 M_{b} \\dot{\\theta}^{2} r_{b} \\sin{\\left(\\theta \\right)} - \\frac{\\tau}{r}\\right) \\cos{\\left(\\theta \\right)}}{\\frac{1.0 I_{w}}{r^{2}} + 1.0 M_{b} + 1.0 M_{w}} + \\tau}{1.0 I_{b} - \\frac{1.0 M_{b}^{2} r_{b}^{2} \\cos^{2}{\\left(\\theta \\right)}}{\\frac{1.0 I_{w}}{r^{2}} + 1.0 M_{b} + 1.0 M_{w}} + 1.0 M_{b} r_{b}^{2}}\n",
      "\\end{multline*}\n"
     ]
    },
    {
     "data": {
      "text/latex": [
       "$\\displaystyle \\ddot{x}=\\frac{1.0 M_{b} \\dot{\\theta}^{2} r_{b} \\sin{\\left(\\theta \\right)} - \\frac{1.0 M_{b} r_{b} \\left(M_{b} g r_{b} \\sin{\\left(\\theta \\right)} - \\frac{1.0 M_{b} r_{b} \\left(1.0 M_{b} \\dot{\\theta}^{2} r_{b} \\sin{\\left(\\theta \\right)} - \\frac{\\tau}{r}\\right) \\cos{\\left(\\theta \\right)}}{\\frac{1.0 I_{w}}{r^{2}} + 1.0 M_{b} + 1.0 M_{w}} + \\tau\\right) \\cos{\\left(\\theta \\right)}}{1.0 I_{b} - \\frac{1.0 M_{b}^{2} r_{b}^{2} \\cos^{2}{\\left(\\theta \\right)}}{\\frac{1.0 I_{w}}{r^{2}} + 1.0 M_{b} + 1.0 M_{w}} + 1.0 M_{b} r_{b}^{2}} - \\frac{\\tau}{r}}{\\frac{1.0 I_{w}}{r^{2}} + 1.0 M_{b} + 1.0 M_{w}}$"
      ],
      "text/plain": [
       "<IPython.core.display.Math object>"
      ]
     },
     "metadata": {},
     "output_type": "display_data"
    },
    {
     "data": {
      "text/latex": [
       "$\\displaystyle \\ddot{\\theta}=\\frac{M_{b} g r_{b} \\sin{\\left(\\theta \\right)} - \\frac{1.0 M_{b} r_{b} \\left(1.0 M_{b} \\dot{\\theta}^{2} r_{b} \\sin{\\left(\\theta \\right)} - \\frac{\\tau}{r}\\right) \\cos{\\left(\\theta \\right)}}{\\frac{1.0 I_{w}}{r^{2}} + 1.0 M_{b} + 1.0 M_{w}} + \\tau}{1.0 I_{b} - \\frac{1.0 M_{b}^{2} r_{b}^{2} \\cos^{2}{\\left(\\theta \\right)}}{\\frac{1.0 I_{w}}{r^{2}} + 1.0 M_{b} + 1.0 M_{w}} + 1.0 M_{b} r_{b}^{2}}$"
      ],
      "text/plain": [
       "<IPython.core.display.Math object>"
      ]
     },
     "metadata": {},
     "output_type": "display_data"
    }
   ],
   "source": [
    "xdd_matrix_solution_expr = Latex_Dmath_Converter(xdd_matrix_solution,r\"\\ddot{x}=\", collect_flag=False)\n",
    "thetadd_matrix_solution_expr = Latex_Dmath_Converter(thetadd_matrix_solution,r\"\\ddot{\\theta}=\", collect_flag= False)\n",
    "\n",
    "display(Math(xdd_matrix_solution_expr))\n",
    "display(Math(thetadd_matrix_solution_expr))"
   ]
  },
  {
   "cell_type": "code",
   "execution_count": 312,
   "metadata": {},
   "outputs": [
    {
     "data": {
      "text/latex": [
       "$\\displaystyle 0$"
      ],
      "text/plain": [
       "0"
      ]
     },
     "execution_count": 312,
     "metadata": {},
     "output_type": "execute_result"
    }
   ],
   "source": [
    "sp.simplify(xdd_solution - xdd_matrix_solution)  \n",
    "sp.simplify(thetadd_solution - thetadd_matrix_solution) "
   ]
  },
  {
   "cell_type": "markdown",
   "metadata": {},
   "source": [
    "matched!"
   ]
  },
  {
   "cell_type": "markdown",
   "metadata": {},
   "source": [
    "### Linearization"
   ]
  },
  {
   "cell_type": "code",
   "execution_count": 313,
   "metadata": {},
   "outputs": [
    {
     "name": "stdout",
     "output_type": "stream",
     "text": [
      "A matrix in LaTeX:\n",
      "\\left[\\begin{matrix}0 & 1 & 0 & 0\\\\0 & 0 & - \\frac{M_{b}^{2} g r^{2} r_{b}^{2}}{I_{b} I_{w} + I_{b} M_{b} r^{2} + I_{b} M_{w} r^{2} + I_{w} M_{b} r_{b}^{2} + M_{b} M_{w} r^{2} r_{b}^{2}} & 0\\\\0 & 0 & 0 & 1\\\\0 & 0 & \\frac{I_{w} M_{b} g r_{b}}{I_{b} I_{w} + I_{b} M_{b} r^{2} + I_{b} M_{w} r^{2} + I_{w} M_{b} r_{b}^{2} + M_{b} M_{w} r^{2} r_{b}^{2}} + \\frac{M_{b}^{2} g r^{2} r_{b}}{I_{b} I_{w} + I_{b} M_{b} r^{2} + I_{b} M_{w} r^{2} + I_{w} M_{b} r_{b}^{2} + M_{b} M_{w} r^{2} r_{b}^{2}} + \\frac{M_{b} M_{w} g r^{2} r_{b}}{I_{b} I_{w} + I_{b} M_{b} r^{2} + I_{b} M_{w} r^{2} + I_{w} M_{b} r_{b}^{2} + M_{b} M_{w} r^{2} r_{b}^{2}} & 0\\end{matrix}\\right]\n",
      "\n",
      "B matrix in LaTeX:\n",
      "\\left[\\begin{matrix}0\\\\- \\frac{I_{b} r}{I_{b} I_{w} + I_{b} M_{b} r^{2} + I_{b} M_{w} r^{2} + I_{w} M_{b} r_{b}^{2} + M_{b} M_{w} r^{2} r_{b}^{2}} - \\frac{M_{b} r^{2} r_{b}}{I_{b} I_{w} + I_{b} M_{b} r^{2} + I_{b} M_{w} r^{2} + I_{w} M_{b} r_{b}^{2} + M_{b} M_{w} r^{2} r_{b}^{2}} - \\frac{M_{b} r r_{b}^{2}}{I_{b} I_{w} + I_{b} M_{b} r^{2} + I_{b} M_{w} r^{2} + I_{w} M_{b} r_{b}^{2} + M_{b} M_{w} r^{2} r_{b}^{2}}\\\\0\\\\\\frac{I_{w}}{I_{b} I_{w} + I_{b} M_{b} r^{2} + I_{b} M_{w} r^{2} + I_{w} M_{b} r_{b}^{2} + M_{b} M_{w} r^{2} r_{b}^{2}} + \\frac{M_{b} r^{2}}{I_{b} I_{w} + I_{b} M_{b} r^{2} + I_{b} M_{w} r^{2} + I_{w} M_{b} r_{b}^{2} + M_{b} M_{w} r^{2} r_{b}^{2}} + \\frac{M_{b} r r_{b}}{I_{b} I_{w} + I_{b} M_{b} r^{2} + I_{b} M_{w} r^{2} + I_{w} M_{b} r_{b}^{2} + M_{b} M_{w} r^{2} r_{b}^{2}} + \\frac{M_{w} r^{2}}{I_{b} I_{w} + I_{b} M_{b} r^{2} + I_{b} M_{w} r^{2} + I_{w} M_{b} r_{b}^{2} + M_{b} M_{w} r^{2} r_{b}^{2}}\\end{matrix}\\right]\n"
     ]
    }
   ],
   "source": [
    "#Define constant tau0\n",
    "tau0 = sp.symbols('tau0')\n",
    "\n",
    "# State vector\n",
    "X = sp.Matrix([x, dx, theta, dtheta])\n",
    "\n",
    "# Dynamics vector\n",
    "dX = sp.Matrix([dx, xdd_solution, dtheta, thetadd_solution])\n",
    "\n",
    "# Equilibrium point\n",
    "eq_point = {x: 0, dx: 0, theta: 0, dtheta: 0, tau: tau0}\n",
    "\n",
    "# Compute Jacobians and evaluate at equilibrium\n",
    "A = dX.jacobian(X).subs(eq_point)\n",
    "B = dX.jacobian([tau]).subs(eq_point)\n",
    "\n",
    "# Print A matrix in LaTeX\n",
    "print(\"A matrix in LaTeX:\")\n",
    "print(sp.latex(A))\n",
    "\n",
    "# Print B matrix in LaTeX\n",
    "print(\"\\nB matrix in LaTeX:\")\n",
    "print(sp.latex(B))"
   ]
  },
  {
   "cell_type": "markdown",
   "metadata": {},
   "source": [
    "### Output to a file"
   ]
  },
  {
   "cell_type": "code",
   "execution_count": 314,
   "metadata": {},
   "outputs": [],
   "source": [
    "os.makedirs('output', exist_ok=True)\n",
    "with open('output/xdd_solution.txt', 'w') as f:\n",
    "    f.write(str(xdd_solution))\n",
    "\n",
    "with open('output/thetadd_solution.txt', 'w') as f:\n",
    "    f.write(str(thetadd_solution))\n",
    "\n",
    "with open('output/A.txt', 'w') as f:\n",
    "    f.write(str(A))\n",
    "\n",
    "with open('output/B.txt', 'w') as f:\n",
    "    f.write(str(B))"
   ]
  }
 ],
 "metadata": {
  "kernelspec": {
   "display_name": "base",
   "language": "python",
   "name": "python3"
  },
  "language_info": {
   "codemirror_mode": {
    "name": "ipython",
    "version": 3
   },
   "file_extension": ".py",
   "mimetype": "text/x-python",
   "name": "python",
   "nbconvert_exporter": "python",
   "pygments_lexer": "ipython3",
   "version": "3.12.2"
  }
 },
 "nbformat": 4,
 "nbformat_minor": 2
}
