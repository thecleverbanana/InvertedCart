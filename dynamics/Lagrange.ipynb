{
 "cells": [
  {
   "cell_type": "code",
   "execution_count": null,
   "metadata": {},
   "outputs": [],
   "source": [
    "from IPython.display import display\n",
    "import sympy as sp\n",
    "from sympy import sin, cos"
   ]
  },
  {
   "cell_type": "markdown",
   "metadata": {},
   "source": [
    "## Lagrange Calculator"
   ]
  },
  {
   "cell_type": "markdown",
   "metadata": {},
   "source": [
    "### Define Symbols"
   ]
  },
  {
   "cell_type": "code",
   "execution_count": 122,
   "metadata": {},
   "outputs": [],
   "source": [
    "# Time symbol\n",
    "t = sp.symbols('t')\n",
    "\n",
    "# Define functions of time\n",
    "x = sp.Function('x')(t)\n",
    "theta = sp.Function('theta')(t)\n",
    "\n",
    "# First derivatives\n",
    "dx = sp.diff(x, t)\n",
    "dtheta = sp.diff(theta, t)\n",
    "\n",
    "# Second derivatives\n",
    "ddx = sp.diff(dx, t)\n",
    "ddtheta = sp.diff(dtheta, t)"
   ]
  },
  {
   "cell_type": "code",
   "execution_count": 123,
   "metadata": {},
   "outputs": [],
   "source": [
    "# Parameters\n",
    "r, Mb, Lb, Ib, Mw, Iw, g, tau = sp.symbols('r M_b L_b I_b M_w I_w g tau')"
   ]
  },
  {
   "cell_type": "markdown",
   "metadata": {},
   "source": [
    "#### Define a Latex Converter For Better Readability"
   ]
  },
  {
   "cell_type": "code",
   "execution_count": 142,
   "metadata": {},
   "outputs": [],
   "source": [
    "def Latex_Dmath_Converter(expr, header, collect_flag=True):\n",
    "    # Define symbols and functions\n",
    "    t, r = sp.symbols('t r')\n",
    "    x_func = sp.Function('x')(t)\n",
    "    theta_func = sp.Function('theta')(t)\n",
    "    phi_func = sp.Function('phi')(t)\n",
    "\n",
    "    # Define derivatives\n",
    "    dx = sp.diff(x_func, t)\n",
    "    ddx = sp.diff(x_func, t, 2)\n",
    "    dtheta = sp.diff(theta_func, t)\n",
    "    ddtheta = sp.diff(theta_func, t, 2)\n",
    "    dphi = sp.diff(phi_func, t)\n",
    "    ddphi = sp.diff(phi_func, t, 2)\n",
    "\n",
    "    # LaTeX symbol mapping\n",
    "    subs_dict = {\n",
    "        x_func: sp.Symbol('x'),\n",
    "        theta_func: sp.Symbol(r'\\theta'),\n",
    "        dx: sp.Symbol(r'\\dot{x}'),\n",
    "        ddx: sp.Symbol(r'\\ddot{x}'),\n",
    "        dtheta: sp.Symbol(r'\\dot{\\theta}'),\n",
    "        ddtheta: sp.Symbol(r'\\ddot{\\theta}'),\n",
    "        phi_func: sp.Symbol(r'\\phi'),\n",
    "        dphi: sp.Symbol(r'\\dot{\\phi}'),\n",
    "        ddphi: sp.Symbol(r'\\ddot{\\phi}')\n",
    "    }\n",
    "\n",
    "    # Smart substitution function\n",
    "    def smart_substitute(expr):\n",
    "        # Substitution: theta + x/r → phi\n",
    "        expr = expr.replace(lambda e: e == theta_func + x_func / r, lambda e: phi_func)\n",
    "\n",
    "        # Derivative substitution\n",
    "        expr = expr.replace(lambda e: e == dtheta + dx / r, lambda e: dphi)\n",
    "        expr = expr.replace(lambda e: e == ddtheta + ddx / r, lambda e: ddphi)\n",
    "\n",
    "        expr = expr.expand()\n",
    "\n",
    "    # Continue with wild pattern matching as before...\n",
    "\n",
    "\n",
    "        # Match general a*dx + b*dtheta with a/b == 1/r\n",
    "        A, B = sp.Wild('A'), sp.Wild('B')\n",
    "        pattern_dphi = A * dx + B * dtheta\n",
    "        pattern_ddphi = A * ddx + B * ddtheta\n",
    "\n",
    "        def replace_dphi(e):\n",
    "            match = e.match(pattern_dphi)\n",
    "            if match:\n",
    "                a_val = match[A]\n",
    "                b_val = match[B]\n",
    "                if sp.simplify(a_val / b_val) == 1 / r:\n",
    "                    return b_val * dphi\n",
    "            return e\n",
    "\n",
    "        def replace_ddphi(e):\n",
    "            match = e.match(pattern_ddphi)\n",
    "            if match:\n",
    "                a_val = match[A]\n",
    "                b_val = match[B]\n",
    "                if sp.simplify(a_val / b_val) == 1 / r:\n",
    "                    return b_val * ddphi\n",
    "            return e\n",
    "\n",
    "        # Use replace recursively\n",
    "        expr = expr.replace(pattern_dphi, replace_dphi)\n",
    "        expr = expr.replace(pattern_ddphi, replace_ddphi)\n",
    "\n",
    "        # Try substitution within sin/cos or other functions\n",
    "        expr = expr.replace(lambda e: isinstance(e, sp.sin) and e.args[0] == theta_func + x_func / r,\n",
    "                            lambda e: sp.sin(phi_func))\n",
    "        expr = expr.replace(lambda e: isinstance(e, sp.cos) and e.args[0] == theta_func + x_func / r,\n",
    "                            lambda e: sp.cos(phi_func))\n",
    "\n",
    "        return expr\n",
    "\n",
    "    # Process the expression\n",
    "    if isinstance(expr, sp.Equality):\n",
    "        lhs = smart_substitute(expr.lhs).subs(subs_dict)\n",
    "        rhs = smart_substitute(expr.rhs).subs(subs_dict)\n",
    "        if collect_flag:\n",
    "            collect_vars = list(subs_dict.values())\n",
    "            lhs = sp.collect(sp.expand(lhs), collect_vars)\n",
    "            rhs = sp.collect(sp.expand(rhs), collect_vars)\n",
    "        latex_str = sp.latex(lhs) + \"=\" + sp.latex(rhs)\n",
    "    else:\n",
    "        expr_subs = smart_substitute(expr).subs(subs_dict)\n",
    "        if collect_flag:\n",
    "            collect_vars = list(subs_dict.values())\n",
    "            expr_subs = sp.collect(sp.expand(expr_subs), collect_vars)\n",
    "        latex_str = sp.latex(expr_subs)\n",
    "\n",
    "    # Clean LaTeX output\n",
    "    latex_str = latex_str.replace(\"1.0 \", \"\").replace(\"1.0\", \"\")\n",
    "\n",
    "    # Output\n",
    "    print(r\"\\begin{multline*}\")\n",
    "    print(header, latex_str)\n",
    "    print(r\"\\end{multline*}\")\n"
   ]
  },
  {
   "cell_type": "markdown",
   "metadata": {},
   "source": [
    "### Kinematic and Potential Terms"
   ]
  },
  {
   "cell_type": "code",
   "execution_count": 143,
   "metadata": {},
   "outputs": [],
   "source": [
    "T1 = (1/2)*Mw*(dx**2) # Wheel Translation K\n",
    "T2 = (1/2)*Iw*((dx/r)**2) # Wheel Rotatory K\n",
    "T3 = (1/2)*Mb*((dx**2)+(2*dx*(dx/r+dtheta)*Lb*cos(x/r+theta))+((dx/r+dtheta)**2)*(Lb**2)) # Body Translation K\n",
    "T4 = (1/2)*Ib*((dx/r+dtheta)**2)# Wheel Rotatory K\n",
    "T = T1+T2+T3+T4"
   ]
  },
  {
   "cell_type": "code",
   "execution_count": 144,
   "metadata": {},
   "outputs": [],
   "source": [
    "V = Mb*g*Lb*cos(x/r+theta)"
   ]
  },
  {
   "cell_type": "code",
   "execution_count": 145,
   "metadata": {},
   "outputs": [],
   "source": [
    "L = T-V"
   ]
  },
  {
   "cell_type": "code",
   "execution_count": 146,
   "metadata": {},
   "outputs": [
    {
     "name": "stdout",
     "output_type": "stream",
     "text": [
      "\\begin{multline*}\n",
      "T= 0.5 I_{b} \\dot{\\phi}^{2} + \\frac{0.5 I_{w} \\dot{x}^{2}}{r^{2}} + 0.5 L_{b}^{2} M_{b} \\dot{\\phi}^{2} + L_{b} M_{b} \\dot{\\phi} \\dot{x} \\cos{\\left(\\phi \\right)} + 0.5 M_{b} \\dot{x}^{2} + 0.5 M_{w} \\dot{x}^{2}\n",
      "\\end{multline*}\n",
      "\\begin{multline*}\n",
      "T= L_{b} M_{b} g \\cos{\\left(\\phi \\right)}\n",
      "\\end{multline*}\n",
      "\\begin{multline*}\n",
      "L= 0.5 I_{b} \\dot{\\phi}^{2} + \\frac{0.5 I_{w} \\dot{x}^{2}}{r^{2}} + 0.5 L_{b}^{2} M_{b} \\dot{\\phi}^{2} + L_{b} M_{b} \\dot{\\phi} \\dot{x} \\cos{\\left(\\phi \\right)} - L_{b} M_{b} g \\cos{\\left(\\phi \\right)} + 0.5 M_{b} \\dot{x}^{2} + 0.5 M_{w} \\dot{x}^{2}\n",
      "\\end{multline*}\n"
     ]
    }
   ],
   "source": [
    "Latex_Dmath_Converter(T,r\"T=\",False)\n",
    "Latex_Dmath_Converter(V,r\"T=\",False)\n",
    "Latex_Dmath_Converter(L,r\"L=\",False)"
   ]
  },
  {
   "cell_type": "markdown",
   "metadata": {},
   "source": [
    "### Generalized Coordinates Functions"
   ]
  },
  {
   "cell_type": "code",
   "execution_count": 147,
   "metadata": {},
   "outputs": [],
   "source": [
    "def coordinate_x(L, RHS):\n",
    "    dL_ddx = sp.diff(L, dx)\n",
    "    d_dt_dL_ddx = sp.diff(dL_ddx, t)\n",
    "    dL_dx = sp.diff(L, x)\n",
    "    \n",
    "    lagrange_eq = sp.Eq(d_dt_dL_ddx - dL_dx, RHS)\n",
    "    return dL_ddx, d_dt_dL_ddx, dL_dx, lagrange_eq\n",
    "\n",
    "\n",
    "def coordinate_theta(L, RHS):\n",
    "    dL_ddtheta = sp.diff(L, dtheta)\n",
    "    d_dt_dL_ddtheta = sp.diff(dL_ddtheta, t)\n",
    "    dL_dtheta = sp.diff(L, theta)\n",
    "\n",
    "    lagrange_eq = sp.Eq(d_dt_dL_ddtheta - dL_dtheta, RHS)\n",
    "    return dL_ddtheta, d_dt_dL_ddtheta, dL_dtheta, lagrange_eq"
   ]
  },
  {
   "cell_type": "markdown",
   "metadata": {},
   "source": [
    "###  Calculate the diff"
   ]
  },
  {
   "cell_type": "code",
   "execution_count": 148,
   "metadata": {},
   "outputs": [],
   "source": [
    "dL_ddx, d_dt_dL_ddx, dL_dx, lagrange_eq_x = coordinate_x(L, 0)\n",
    "dL_ddtheta, d_dt_dL_ddtheta, dL_dtheta, lagrange_eq_theta = coordinate_theta(L, tau)"
   ]
  },
  {
   "cell_type": "code",
   "execution_count": 149,
   "metadata": {},
   "outputs": [
    {
     "name": "stdout",
     "output_type": "stream",
     "text": [
      "L_b*M_b*g*sin(theta(t) + x(t)/r) - 1.0*L_b*M_b*(Derivative(theta(t), t) + Derivative(x(t), t)/r)*sin(theta(t) + x(t)/r)*Derivative(x(t), t)\n"
     ]
    }
   ],
   "source": [
    "print(dL_dtheta)"
   ]
  },
  {
   "cell_type": "markdown",
   "metadata": {},
   "source": [
    "#### Print For Latex"
   ]
  },
  {
   "cell_type": "code",
   "execution_count": 160,
   "metadata": {},
   "outputs": [
    {
     "name": "stdout",
     "output_type": "stream",
     "text": [
      "\\begin{multline*}\n",
      "\\frac{\\partial L}{\\partial \\dot{x}}= \\dot{\\phi} \\left(\\frac{I_{b}}{r} + \\frac{L_{b}^{2} M_{b}}{r} + L_{b} M_{b} \\cos{\\left(\\phi \\right)}\\right) + \\dot{x} \\left(\\frac{I_{w}}{r^{2}} + \\frac{L_{b} M_{b} \\cos{\\left(\\phi \\right)}}{r} + M_{b} + M_{w}\\right)\n",
      "\\end{multline*}\n",
      "\\begin{multline*}\n",
      "\\frac{d}{dt}(\\frac{\\partial L}{\\partial \\dot{x}})= - L_{b} M_{b} \\dot{\\phi}^{2} \\sin{\\left(\\phi \\right)} - \\frac{L_{b} M_{b} \\dot{\\phi} \\dot{x} \\sin{\\left(\\phi \\right)}}{r} + \\ddot{\\phi} \\left(\\frac{I_{b}}{r} + \\frac{L_{b}^{2} M_{b}}{r} + L_{b} M_{b} \\cos{\\left(\\phi \\right)}\\right) + \\ddot{x} \\left(\\frac{I_{w}}{r^{2}} + \\frac{L_{b} M_{b} \\cos{\\left(\\phi \\right)}}{r} + M_{b} + M_{w}\\right)\n",
      "\\end{multline*}\n",
      "\\begin{multline*}\n",
      "\\frac{\\partial L}{\\partial x}= - \\frac{L_{b} M_{b} \\dot{\\phi} \\dot{x} \\sin{\\left(\\phi \\right)}}{r} + \\frac{L_{b} M_{b} g \\sin{\\left(\\phi \\right)}}{r}\n",
      "\\end{multline*}\n",
      "\\begin{multline*}\n",
      "\\text{Coordinate X: } - L_{b} M_{b} \\dot{\\phi}^{2} \\sin{\\left(\\phi \\right)} - \\frac{L_{b} M_{b} g \\sin{\\left(\\phi \\right)}}{r} + \\ddot{\\phi} \\left(\\frac{I_{b}}{r} + \\frac{L_{b}^{2} M_{b}}{r} + L_{b} M_{b} \\cos{\\left(\\phi \\right)}\\right) + \\ddot{x} \\left(\\frac{I_{w}}{r^{2}} + \\frac{L_{b} M_{b} \\cos{\\left(\\phi \\right)}}{r} + M_{b} + M_{w}\\right)=0\n",
      "\\end{multline*}\n",
      "\\begin{multline*}\n",
      "\\frac{\\partial L}{\\partial \\dot{\\theta}}= \\dot{\\theta} \\left(I_{b} + L_{b}^{2} M_{b}\\right) + \\dot{x} \\left(\\frac{I_{b}}{r} + \\frac{L_{b}^{2} M_{b}}{r} + L_{b} M_{b} \\cos{\\left(\\phi \\right)}\\right)\n",
      "\\end{multline*}\n",
      "\\begin{multline*}\n",
      "\\frac{d}{dt}(\\frac{\\partial L}{\\partial \\dot{\\theta}})= - L_{b} M_{b} \\dot{\\phi} \\dot{x} \\sin{\\left(\\phi \\right)} + \\ddot{\\theta} \\left(I_{b} + L_{b}^{2} M_{b}\\right) + \\ddot{x} \\left(\\frac{I_{b}}{r} + \\frac{L_{b}^{2} M_{b}}{r} + L_{b} M_{b} \\cos{\\left(\\phi \\right)}\\right)\n",
      "\\end{multline*}\n",
      "\\begin{multline*}\n",
      "\\frac{\\partial L}{\\partial \\theta}= - L_{b} M_{b} \\dot{\\phi} \\dot{x} \\sin{\\left(\\phi \\right)} + L_{b} M_{b} g \\sin{\\left(\\phi \\right)}\n",
      "\\end{multline*}\n",
      "\\begin{multline*}\n",
      "\\text{Coordinate \\theta: } - L_{b} M_{b} g \\sin{\\left(\\phi \\right)} + \\ddot{\\theta} \\left(I_{b} + L_{b}^{2} M_{b}\\right) + \\ddot{x} \\left(\\frac{I_{b}}{r} + \\frac{L_{b}^{2} M_{b}}{r} + L_{b} M_{b} \\cos{\\left(\\phi \\right)}\\right)=\\tau\n",
      "\\end{multline*}\n"
     ]
    }
   ],
   "source": [
    "Latex_Dmath_Converter(dL_ddx,r\"\\frac{\\partial L}{\\partial \\dot{x}}=\")\n",
    "Latex_Dmath_Converter(d_dt_dL_ddx, r\"\\frac{d}{dt}(\\frac{\\partial L}{\\partial \\dot{x}})=\")\n",
    "Latex_Dmath_Converter(dL_dx, r\"\\frac{\\partial L}{\\partial x}=\")\n",
    "Latex_Dmath_Converter(lagrange_eq_x, r\"\\text{Coordinate X: }\")\n",
    "Latex_Dmath_Converter(dL_ddtheta, r\"\\frac{\\partial L}{\\partial \\dot{\\theta}}=\")\n",
    "Latex_Dmath_Converter(d_dt_dL_ddtheta, r\"\\frac{d}{dt}(\\frac{\\partial L}{\\partial \\dot{\\theta}})=\")\n",
    "Latex_Dmath_Converter(dL_dtheta, r\"\\frac{\\partial L}{\\partial \\theta}=\")\n",
    "Latex_Dmath_Converter(lagrange_eq_theta, r\"\\text{Coordinate \\theta: }\")\n"
   ]
  },
  {
   "cell_type": "code",
   "execution_count": 172,
   "metadata": {},
   "outputs": [
    {
     "data": {
      "text/latex": [
       "$\\displaystyle \\frac{1.0 I_{b} \\left(\\frac{d^{2}}{d t^{2}} \\theta{\\left(t \\right)} + \\frac{\\frac{d^{2}}{d t^{2}} x{\\left(t \\right)}}{r}\\right)}{r} + \\frac{1.0 I_{w} \\frac{d^{2}}{d t^{2}} x{\\left(t \\right)}}{r^{2}} - \\frac{L_{b} M_{b} g \\sin{\\left(\\theta{\\left(t \\right)} + \\frac{x{\\left(t \\right)}}{r} \\right)}}{r} + \\frac{1.0 L_{b} M_{b} \\left(\\frac{d}{d t} \\theta{\\left(t \\right)} + \\frac{\\frac{d}{d t} x{\\left(t \\right)}}{r}\\right) \\sin{\\left(\\theta{\\left(t \\right)} + \\frac{x{\\left(t \\right)}}{r} \\right)} \\frac{d}{d t} x{\\left(t \\right)}}{r} + 0.5 M_{b} \\left(\\frac{2 L_{b}^{2} \\left(\\frac{d^{2}}{d t^{2}} \\theta{\\left(t \\right)} + \\frac{\\frac{d^{2}}{d t^{2}} x{\\left(t \\right)}}{r}\\right)}{r} - 2 L_{b} \\left(\\frac{d}{d t} \\theta{\\left(t \\right)} + \\frac{\\frac{d}{d t} x{\\left(t \\right)}}{r}\\right)^{2} \\sin{\\left(\\theta{\\left(t \\right)} + \\frac{x{\\left(t \\right)}}{r} \\right)} + 2 L_{b} \\left(\\frac{d^{2}}{d t^{2}} \\theta{\\left(t \\right)} + \\frac{\\frac{d^{2}}{d t^{2}} x{\\left(t \\right)}}{r}\\right) \\cos{\\left(\\theta{\\left(t \\right)} + \\frac{x{\\left(t \\right)}}{r} \\right)} - \\frac{2 L_{b} \\left(\\frac{d}{d t} \\theta{\\left(t \\right)} + \\frac{\\frac{d}{d t} x{\\left(t \\right)}}{r}\\right) \\sin{\\left(\\theta{\\left(t \\right)} + \\frac{x{\\left(t \\right)}}{r} \\right)} \\frac{d}{d t} x{\\left(t \\right)}}{r} + \\frac{2 L_{b} \\cos{\\left(\\theta{\\left(t \\right)} + \\frac{x{\\left(t \\right)}}{r} \\right)} \\frac{d^{2}}{d t^{2}} x{\\left(t \\right)}}{r} + 2 \\frac{d^{2}}{d t^{2}} x{\\left(t \\right)}\\right) + 1.0 M_{w} \\frac{d^{2}}{d t^{2}} x{\\left(t \\right)} = 0$"
      ],
      "text/plain": [
       "Eq(1.0*I_b*(Derivative(theta(t), (t, 2)) + Derivative(x(t), (t, 2))/r)/r + 1.0*I_w*Derivative(x(t), (t, 2))/r**2 - L_b*M_b*g*sin(theta(t) + x(t)/r)/r + 1.0*L_b*M_b*(Derivative(theta(t), t) + Derivative(x(t), t)/r)*sin(theta(t) + x(t)/r)*Derivative(x(t), t)/r + 0.5*M_b*(2*L_b**2*(Derivative(theta(t), (t, 2)) + Derivative(x(t), (t, 2))/r)/r - 2*L_b*(Derivative(theta(t), t) + Derivative(x(t), t)/r)**2*sin(theta(t) + x(t)/r) + 2*L_b*(Derivative(theta(t), (t, 2)) + Derivative(x(t), (t, 2))/r)*cos(theta(t) + x(t)/r) - 2*L_b*(Derivative(theta(t), t) + Derivative(x(t), t)/r)*sin(theta(t) + x(t)/r)*Derivative(x(t), t)/r + 2*L_b*cos(theta(t) + x(t)/r)*Derivative(x(t), (t, 2))/r + 2*Derivative(x(t), (t, 2))) + 1.0*M_w*Derivative(x(t), (t, 2)), 0)"
      ]
     },
     "metadata": {},
     "output_type": "display_data"
    },
    {
     "data": {
      "text/latex": [
       "$\\displaystyle 0.5 I_{b} \\left(2 \\frac{d^{2}}{d t^{2}} \\theta{\\left(t \\right)} + \\frac{2 \\frac{d^{2}}{d t^{2}} x{\\left(t \\right)}}{r}\\right) - L_{b} M_{b} g \\sin{\\left(\\theta{\\left(t \\right)} + \\frac{x{\\left(t \\right)}}{r} \\right)} + 1.0 L_{b} M_{b} \\left(\\frac{d}{d t} \\theta{\\left(t \\right)} + \\frac{\\frac{d}{d t} x{\\left(t \\right)}}{r}\\right) \\sin{\\left(\\theta{\\left(t \\right)} + \\frac{x{\\left(t \\right)}}{r} \\right)} \\frac{d}{d t} x{\\left(t \\right)} + 0.5 M_{b} \\left(L_{b}^{2} \\left(2 \\frac{d^{2}}{d t^{2}} \\theta{\\left(t \\right)} + \\frac{2 \\frac{d^{2}}{d t^{2}} x{\\left(t \\right)}}{r}\\right) - 2 L_{b} \\left(\\frac{d}{d t} \\theta{\\left(t \\right)} + \\frac{\\frac{d}{d t} x{\\left(t \\right)}}{r}\\right) \\sin{\\left(\\theta{\\left(t \\right)} + \\frac{x{\\left(t \\right)}}{r} \\right)} \\frac{d}{d t} x{\\left(t \\right)} + 2 L_{b} \\cos{\\left(\\theta{\\left(t \\right)} + \\frac{x{\\left(t \\right)}}{r} \\right)} \\frac{d^{2}}{d t^{2}} x{\\left(t \\right)}\\right) = \\tau$"
      ],
      "text/plain": [
       "Eq(0.5*I_b*(2*Derivative(theta(t), (t, 2)) + 2*Derivative(x(t), (t, 2))/r) - L_b*M_b*g*sin(theta(t) + x(t)/r) + 1.0*L_b*M_b*(Derivative(theta(t), t) + Derivative(x(t), t)/r)*sin(theta(t) + x(t)/r)*Derivative(x(t), t) + 0.5*M_b*(L_b**2*(2*Derivative(theta(t), (t, 2)) + 2*Derivative(x(t), (t, 2))/r) - 2*L_b*(Derivative(theta(t), t) + Derivative(x(t), t)/r)*sin(theta(t) + x(t)/r)*Derivative(x(t), t) + 2*L_b*cos(theta(t) + x(t)/r)*Derivative(x(t), (t, 2))), tau)"
      ]
     },
     "metadata": {},
     "output_type": "display_data"
    }
   ],
   "source": [
    "display(lagrange_eq_x)\n",
    "display(lagrange_eq_theta)"
   ]
  },
  {
   "cell_type": "markdown",
   "metadata": {},
   "source": [
    "### Solve the Equation"
   ]
  },
  {
   "cell_type": "code",
   "execution_count": 168,
   "metadata": {},
   "outputs": [],
   "source": [
    "solutions = sp.solve([lagrange_eq_x, lagrange_eq_theta], (ddx, ddtheta))\n",
    "xdd_solution = solutions[ddx]\n",
    "thetadd_solution = solutions[ddtheta]"
   ]
  },
  {
   "cell_type": "code",
   "execution_count": 169,
   "metadata": {},
   "outputs": [
    {
     "name": "stdout",
     "output_type": "stream",
     "text": [
      "\\begin{multline*}\n",
      "\\ddot{x}= - \\frac{I_{b} r \\tau}{I_{b} I_{w} + I_{b} M_{b} r^{2} + I_{b} M_{w} r^{2} + I_{w} L_{b}^{2} M_{b} - L_{b}^{2} M_{b}^{2} r^{2} \\cos^{2}{\\left(\\phi \\right)} + L_{b}^{2} M_{b}^{2} r^{2} + L_{b}^{2} M_{b} M_{w} r^{2}} - \\frac{L_{b}^{2} M_{b}^{2} g r^{2} \\sin{\\left(\\phi \\right)} \\cos{\\left(\\phi \\right)}}{I_{b} I_{w} + I_{b} M_{b} r^{2} + I_{b} M_{w} r^{2} + I_{w} L_{b}^{2} M_{b} - L_{b}^{2} M_{b}^{2} r^{2} \\cos^{2}{\\left(\\phi \\right)} + L_{b}^{2} M_{b}^{2} r^{2} + L_{b}^{2} M_{b} M_{w} r^{2}} - \\frac{L_{b}^{2} M_{b} r \\tau}{I_{b} I_{w} + I_{b} M_{b} r^{2} + I_{b} M_{w} r^{2} + I_{w} L_{b}^{2} M_{b} - L_{b}^{2} M_{b}^{2} r^{2} \\cos^{2}{\\left(\\phi \\right)} + L_{b}^{2} M_{b}^{2} r^{2} + L_{b}^{2} M_{b} M_{w} r^{2}} - \\frac{L_{b} M_{b} r^{2} \\tau \\cos{\\left(\\phi \\right)}}{I_{b} I_{w} + I_{b} M_{b} r^{2} + I_{b} M_{w} r^{2} + I_{w} L_{b}^{2} M_{b} - L_{b}^{2} M_{b}^{2} r^{2} \\cos^{2}{\\left(\\phi \\right)} + L_{b}^{2} M_{b}^{2} r^{2} + L_{b}^{2} M_{b} M_{w} r^{2}} + \\dot{\\theta}^{2} \\left(\\frac{I_{b} L_{b} M_{b} r^{2} \\sin{\\left(\\phi \\right)}}{I_{b} I_{w} + I_{b} M_{b} r^{2} + I_{b} M_{w} r^{2} + I_{w} L_{b}^{2} M_{b} - L_{b}^{2} M_{b}^{2} r^{2} \\cos^{2}{\\left(\\phi \\right)} + L_{b}^{2} M_{b}^{2} r^{2} + L_{b}^{2} M_{b} M_{w} r^{2}} + \\frac{L_{b}^{3} M_{b}^{2} r^{2} \\sin{\\left(\\phi \\right)}}{I_{b} I_{w} + I_{b} M_{b} r^{2} + I_{b} M_{w} r^{2} + I_{w} L_{b}^{2} M_{b} - L_{b}^{2} M_{b}^{2} r^{2} \\cos^{2}{\\left(\\phi \\right)} + L_{b}^{2} M_{b}^{2} r^{2} + L_{b}^{2} M_{b} M_{w} r^{2}}\\right) + \\dot{x}^{2} \\left(\\frac{I_{b} L_{b} M_{b} \\sin{\\left(\\phi \\right)}}{I_{b} I_{w} + I_{b} M_{b} r^{2} + I_{b} M_{w} r^{2} + I_{w} L_{b}^{2} M_{b} - L_{b}^{2} M_{b}^{2} r^{2} \\cos^{2}{\\left(\\phi \\right)} + L_{b}^{2} M_{b}^{2} r^{2} + L_{b}^{2} M_{b} M_{w} r^{2}} + \\frac{L_{b}^{3} M_{b}^{2} \\sin{\\left(\\phi \\right)}}{I_{b} I_{w} + I_{b} M_{b} r^{2} + I_{b} M_{w} r^{2} + I_{w} L_{b}^{2} M_{b} - L_{b}^{2} M_{b}^{2} r^{2} \\cos^{2}{\\left(\\phi \\right)} + L_{b}^{2} M_{b}^{2} r^{2} + L_{b}^{2} M_{b} M_{w} r^{2}}\\right) + \\dot{x} \\left(\\frac{2.0 I_{b} L_{b} M_{b} \\dot{\\theta} r \\sin{\\left(\\phi \\right)}}{I_{b} I_{w} + I_{b} M_{b} r^{2} + I_{b} M_{w} r^{2} + I_{w} L_{b}^{2} M_{b} - L_{b}^{2} M_{b}^{2} r^{2} \\cos^{2}{\\left(\\phi \\right)} + L_{b}^{2} M_{b}^{2} r^{2} + L_{b}^{2} M_{b} M_{w} r^{2}} + \\frac{2.0 L_{b}^{3} M_{b}^{2} \\dot{\\theta} r \\sin{\\left(\\phi \\right)}}{I_{b} I_{w} + I_{b} M_{b} r^{2} + I_{b} M_{w} r^{2} + I_{w} L_{b}^{2} M_{b} - L_{b}^{2} M_{b}^{2} r^{2} \\cos^{2}{\\left(\\phi \\right)} + L_{b}^{2} M_{b}^{2} r^{2} + L_{b}^{2} M_{b} M_{w} r^{2}}\\right)\n",
      "\\end{multline*}\n",
      "\\begin{multline*}\n",
      "\\ddot{\\theta}= \\frac{I_{b} r \\tau}{I_{b} I_{w} r + I_{b} M_{b} r^{3} + I_{b} M_{w} r^{3} + I_{w} L_{b}^{2} M_{b} r - L_{b}^{2} M_{b}^{2} r^{3} \\cos^{2}{\\left(\\phi \\right)} + L_{b}^{2} M_{b}^{2} r^{3} + L_{b}^{2} M_{b} M_{w} r^{3}} + \\frac{I_{w} L_{b} M_{b} g r \\sin{\\left(\\phi \\right)}}{I_{b} I_{w} r + I_{b} M_{b} r^{3} + I_{b} M_{w} r^{3} + I_{w} L_{b}^{2} M_{b} r - L_{b}^{2} M_{b}^{2} r^{3} \\cos^{2}{\\left(\\phi \\right)} + L_{b}^{2} M_{b}^{2} r^{3} + L_{b}^{2} M_{b} M_{w} r^{3}} + \\frac{I_{w} r \\tau}{I_{b} I_{w} r + I_{b} M_{b} r^{3} + I_{b} M_{w} r^{3} + I_{w} L_{b}^{2} M_{b} r - L_{b}^{2} M_{b}^{2} r^{3} \\cos^{2}{\\left(\\phi \\right)} + L_{b}^{2} M_{b}^{2} r^{3} + L_{b}^{2} M_{b} M_{w} r^{3}} + \\frac{L_{b}^{2} M_{b}^{2} g r^{2} \\sin{\\left(\\phi \\right)} \\cos{\\left(\\phi \\right)}}{I_{b} I_{w} r + I_{b} M_{b} r^{3} + I_{b} M_{w} r^{3} + I_{w} L_{b}^{2} M_{b} r - L_{b}^{2} M_{b}^{2} r^{3} \\cos^{2}{\\left(\\phi \\right)} + L_{b}^{2} M_{b}^{2} r^{3} + L_{b}^{2} M_{b} M_{w} r^{3}} + \\frac{L_{b}^{2} M_{b} r \\tau}{I_{b} I_{w} r + I_{b} M_{b} r^{3} + I_{b} M_{w} r^{3} + I_{w} L_{b}^{2} M_{b} r - L_{b}^{2} M_{b}^{2} r^{3} \\cos^{2}{\\left(\\phi \\right)} + L_{b}^{2} M_{b}^{2} r^{3} + L_{b}^{2} M_{b} M_{w} r^{3}} + \\frac{L_{b} M_{b}^{2} g r^{3} \\sin{\\left(\\phi \\right)}}{I_{b} I_{w} r + I_{b} M_{b} r^{3} + I_{b} M_{w} r^{3} + I_{w} L_{b}^{2} M_{b} r - L_{b}^{2} M_{b}^{2} r^{3} \\cos^{2}{\\left(\\phi \\right)} + L_{b}^{2} M_{b}^{2} r^{3} + L_{b}^{2} M_{b} M_{w} r^{3}} + \\frac{L_{b} M_{b} M_{w} g r^{3} \\sin{\\left(\\phi \\right)}}{I_{b} I_{w} r + I_{b} M_{b} r^{3} + I_{b} M_{w} r^{3} + I_{w} L_{b}^{2} M_{b} r - L_{b}^{2} M_{b}^{2} r^{3} \\cos^{2}{\\left(\\phi \\right)} + L_{b}^{2} M_{b}^{2} r^{3} + L_{b}^{2} M_{b} M_{w} r^{3}} + \\frac{2.0 L_{b} M_{b} r^{2} \\tau \\cos{\\left(\\phi \\right)}}{I_{b} I_{w} r + I_{b} M_{b} r^{3} + I_{b} M_{w} r^{3} + I_{w} L_{b}^{2} M_{b} r - L_{b}^{2} M_{b}^{2} r^{3} \\cos^{2}{\\left(\\phi \\right)} + L_{b}^{2} M_{b}^{2} r^{3} + L_{b}^{2} M_{b} M_{w} r^{3}} + \\frac{M_{b} r^{3} \\tau}{I_{b} I_{w} r + I_{b} M_{b} r^{3} + I_{b} M_{w} r^{3} + I_{w} L_{b}^{2} M_{b} r - L_{b}^{2} M_{b}^{2} r^{3} \\cos^{2}{\\left(\\phi \\right)} + L_{b}^{2} M_{b}^{2} r^{3} + L_{b}^{2} M_{b} M_{w} r^{3}} + \\frac{M_{w} r^{3} \\tau}{I_{b} I_{w} r + I_{b} M_{b} r^{3} + I_{b} M_{w} r^{3} + I_{w} L_{b}^{2} M_{b} r - L_{b}^{2} M_{b}^{2} r^{3} \\cos^{2}{\\left(\\phi \\right)} + L_{b}^{2} M_{b}^{2} r^{3} + L_{b}^{2} M_{b} M_{w} r^{3}} + \\dot{\\theta}^{2} \\left(- \\frac{I_{b} L_{b} M_{b} r^{2} \\sin{\\left(\\phi \\right)}}{I_{b} I_{w} r + I_{b} M_{b} r^{3} + I_{b} M_{w} r^{3} + I_{w} L_{b}^{2} M_{b} r - L_{b}^{2} M_{b}^{2} r^{3} \\cos^{2}{\\left(\\phi \\right)} + L_{b}^{2} M_{b}^{2} r^{3} + L_{b}^{2} M_{b} M_{w} r^{3}} - \\frac{L_{b}^{3} M_{b}^{2} r^{2} \\sin{\\left(\\phi \\right)}}{I_{b} I_{w} r + I_{b} M_{b} r^{3} + I_{b} M_{w} r^{3} + I_{w} L_{b}^{2} M_{b} r - L_{b}^{2} M_{b}^{2} r^{3} \\cos^{2}{\\left(\\phi \\right)} + L_{b}^{2} M_{b}^{2} r^{3} + L_{b}^{2} M_{b} M_{w} r^{3}} - \\frac{L_{b}^{2} M_{b}^{2} r^{3} \\sin{\\left(\\phi \\right)} \\cos{\\left(\\phi \\right)}}{I_{b} I_{w} r + I_{b} M_{b} r^{3} + I_{b} M_{w} r^{3} + I_{w} L_{b}^{2} M_{b} r - L_{b}^{2} M_{b}^{2} r^{3} \\cos^{2}{\\left(\\phi \\right)} + L_{b}^{2} M_{b}^{2} r^{3} + L_{b}^{2} M_{b} M_{w} r^{3}}\\right) + \\dot{x}^{2} \\left(- \\frac{I_{b} L_{b} M_{b} \\sin{\\left(\\phi \\right)}}{I_{b} I_{w} r + I_{b} M_{b} r^{3} + I_{b} M_{w} r^{3} + I_{w} L_{b}^{2} M_{b} r - L_{b}^{2} M_{b}^{2} r^{3} \\cos^{2}{\\left(\\phi \\right)} + L_{b}^{2} M_{b}^{2} r^{3} + L_{b}^{2} M_{b} M_{w} r^{3}} - \\frac{L_{b}^{3} M_{b}^{2} \\sin{\\left(\\phi \\right)}}{I_{b} I_{w} r + I_{b} M_{b} r^{3} + I_{b} M_{w} r^{3} + I_{w} L_{b}^{2} M_{b} r - L_{b}^{2} M_{b}^{2} r^{3} \\cos^{2}{\\left(\\phi \\right)} + L_{b}^{2} M_{b}^{2} r^{3} + L_{b}^{2} M_{b} M_{w} r^{3}} - \\frac{L_{b}^{2} M_{b}^{2} r \\sin{\\left(\\phi \\right)} \\cos{\\left(\\phi \\right)}}{I_{b} I_{w} r + I_{b} M_{b} r^{3} + I_{b} M_{w} r^{3} + I_{w} L_{b}^{2} M_{b} r - L_{b}^{2} M_{b}^{2} r^{3} \\cos^{2}{\\left(\\phi \\right)} + L_{b}^{2} M_{b}^{2} r^{3} + L_{b}^{2} M_{b} M_{w} r^{3}}\\right) + \\dot{x} \\left(- \\frac{2.0 I_{b} L_{b} M_{b} \\dot{\\theta} r \\sin{\\left(\\phi \\right)}}{I_{b} I_{w} r + I_{b} M_{b} r^{3} + I_{b} M_{w} r^{3} + I_{w} L_{b}^{2} M_{b} r - L_{b}^{2} M_{b}^{2} r^{3} \\cos^{2}{\\left(\\phi \\right)} + L_{b}^{2} M_{b}^{2} r^{3} + L_{b}^{2} M_{b} M_{w} r^{3}} - \\frac{2.0 L_{b}^{3} M_{b}^{2} \\dot{\\theta} r \\sin{\\left(\\phi \\right)}}{I_{b} I_{w} r + I_{b} M_{b} r^{3} + I_{b} M_{w} r^{3} + I_{w} L_{b}^{2} M_{b} r - L_{b}^{2} M_{b}^{2} r^{3} \\cos^{2}{\\left(\\phi \\right)} + L_{b}^{2} M_{b}^{2} r^{3} + L_{b}^{2} M_{b} M_{w} r^{3}} - \\frac{2.0 L_{b}^{2} M_{b}^{2} \\dot{\\theta} r^{2} \\sin{\\left(\\phi \\right)} \\cos{\\left(\\phi \\right)}}{I_{b} I_{w} r + I_{b} M_{b} r^{3} + I_{b} M_{w} r^{3} + I_{w} L_{b}^{2} M_{b} r - L_{b}^{2} M_{b}^{2} r^{3} \\cos^{2}{\\left(\\phi \\right)} + L_{b}^{2} M_{b}^{2} r^{3} + L_{b}^{2} M_{b} M_{w} r^{3}}\\right)\n",
      "\\end{multline*}\n"
     ]
    }
   ],
   "source": [
    "Latex_Dmath_Converter(xdd_solution,r\"\\ddot{x}=\")\n",
    "Latex_Dmath_Converter(thetadd_solution,r\"\\ddot{\\theta}=\")"
   ]
  },
  {
   "cell_type": "markdown",
   "metadata": {},
   "source": [
    "### Linearization"
   ]
  },
  {
   "cell_type": "code",
   "execution_count": 173,
   "metadata": {},
   "outputs": [
    {
     "name": "stdout",
     "output_type": "stream",
     "text": [
      "A matrix in LaTeX:\n",
      "\\left[\\begin{matrix}0 & 1 & 0 & 0\\\\- \\frac{L_{b}^{2} M_{b}^{2} g r}{I_{b} I_{w} + I_{b} M_{b} r^{2} + I_{b} M_{w} r^{2} + I_{w} L_{b}^{2} M_{b} + L_{b}^{2} M_{b} M_{w} r^{2}} & 0 & - \\frac{L_{b}^{2} M_{b}^{2} g r^{2}}{I_{b} I_{w} + I_{b} M_{b} r^{2} + I_{b} M_{w} r^{2} + I_{w} L_{b}^{2} M_{b} + L_{b}^{2} M_{b} M_{w} r^{2}} & 0\\\\0 & 0 & 0 & 1\\\\\\frac{I_{w} L_{b} M_{b} g}{I_{b} I_{w} r + I_{b} M_{b} r^{3} + I_{b} M_{w} r^{3} + I_{w} L_{b}^{2} M_{b} r + L_{b}^{2} M_{b} M_{w} r^{3}} + \\frac{L_{b}^{2} M_{b}^{2} g r}{I_{b} I_{w} r + I_{b} M_{b} r^{3} + I_{b} M_{w} r^{3} + I_{w} L_{b}^{2} M_{b} r + L_{b}^{2} M_{b} M_{w} r^{3}} + \\frac{L_{b} M_{b}^{2} g r^{2}}{I_{b} I_{w} r + I_{b} M_{b} r^{3} + I_{b} M_{w} r^{3} + I_{w} L_{b}^{2} M_{b} r + L_{b}^{2} M_{b} M_{w} r^{3}} + \\frac{L_{b} M_{b} M_{w} g r^{2}}{I_{b} I_{w} r + I_{b} M_{b} r^{3} + I_{b} M_{w} r^{3} + I_{w} L_{b}^{2} M_{b} r + L_{b}^{2} M_{b} M_{w} r^{3}} & 0 & \\frac{I_{w} L_{b} M_{b} g r}{I_{b} I_{w} r + I_{b} M_{b} r^{3} + I_{b} M_{w} r^{3} + I_{w} L_{b}^{2} M_{b} r + L_{b}^{2} M_{b} M_{w} r^{3}} + \\frac{L_{b}^{2} M_{b}^{2} g r^{2}}{I_{b} I_{w} r + I_{b} M_{b} r^{3} + I_{b} M_{w} r^{3} + I_{w} L_{b}^{2} M_{b} r + L_{b}^{2} M_{b} M_{w} r^{3}} + \\frac{L_{b} M_{b}^{2} g r^{3}}{I_{b} I_{w} r + I_{b} M_{b} r^{3} + I_{b} M_{w} r^{3} + I_{w} L_{b}^{2} M_{b} r + L_{b}^{2} M_{b} M_{w} r^{3}} + \\frac{L_{b} M_{b} M_{w} g r^{3}}{I_{b} I_{w} r + I_{b} M_{b} r^{3} + I_{b} M_{w} r^{3} + I_{w} L_{b}^{2} M_{b} r + L_{b}^{2} M_{b} M_{w} r^{3}} & 0\\end{matrix}\\right]\n",
      "\n",
      "B matrix in LaTeX:\n",
      "\\left[\\begin{matrix}0\\\\- \\frac{I_{b} r}{I_{b} I_{w} + I_{b} M_{b} r^{2} + I_{b} M_{w} r^{2} + I_{w} L_{b}^{2} M_{b} + L_{b}^{2} M_{b} M_{w} r^{2}} - \\frac{L_{b}^{2} M_{b} r}{I_{b} I_{w} + I_{b} M_{b} r^{2} + I_{b} M_{w} r^{2} + I_{w} L_{b}^{2} M_{b} + L_{b}^{2} M_{b} M_{w} r^{2}} - \\frac{L_{b} M_{b} r^{2}}{I_{b} I_{w} + I_{b} M_{b} r^{2} + I_{b} M_{w} r^{2} + I_{w} L_{b}^{2} M_{b} + L_{b}^{2} M_{b} M_{w} r^{2}}\\\\0\\\\\\frac{I_{b} r}{I_{b} I_{w} r + I_{b} M_{b} r^{3} + I_{b} M_{w} r^{3} + I_{w} L_{b}^{2} M_{b} r + L_{b}^{2} M_{b} M_{w} r^{3}} + \\frac{I_{w} r}{I_{b} I_{w} r + I_{b} M_{b} r^{3} + I_{b} M_{w} r^{3} + I_{w} L_{b}^{2} M_{b} r + L_{b}^{2} M_{b} M_{w} r^{3}} + \\frac{L_{b}^{2} M_{b} r}{I_{b} I_{w} r + I_{b} M_{b} r^{3} + I_{b} M_{w} r^{3} + I_{w} L_{b}^{2} M_{b} r + L_{b}^{2} M_{b} M_{w} r^{3}} + \\frac{2.0 L_{b} M_{b} r^{2}}{I_{b} I_{w} r + I_{b} M_{b} r^{3} + I_{b} M_{w} r^{3} + I_{w} L_{b}^{2} M_{b} r + L_{b}^{2} M_{b} M_{w} r^{3}} + \\frac{M_{b} r^{3}}{I_{b} I_{w} r + I_{b} M_{b} r^{3} + I_{b} M_{w} r^{3} + I_{w} L_{b}^{2} M_{b} r + L_{b}^{2} M_{b} M_{w} r^{3}} + \\frac{M_{w} r^{3}}{I_{b} I_{w} r + I_{b} M_{b} r^{3} + I_{b} M_{w} r^{3} + I_{w} L_{b}^{2} M_{b} r + L_{b}^{2} M_{b} M_{w} r^{3}}\\end{matrix}\\right]\n"
     ]
    }
   ],
   "source": [
    "#Define constant tau0\n",
    "tau0 = sp.symbols('tau0')\n",
    "\n",
    "# State vector\n",
    "X = sp.Matrix([x, dx, theta, dtheta])\n",
    "\n",
    "# Dynamics vector\n",
    "dX = sp.Matrix([dx, xdd_solution, dtheta, thetadd_solution])\n",
    "\n",
    "# Equilibrium point\n",
    "eq_point = {x: 0, dx: 0, theta: 0, dtheta: 0, tau: tau0}\n",
    "\n",
    "# Compute Jacobians and evaluate at equilibrium\n",
    "A = dX.jacobian(X).subs(eq_point)\n",
    "B = dX.jacobian([tau]).subs(eq_point)\n",
    "\n",
    "# Print A matrix in LaTeX\n",
    "print(\"A matrix in LaTeX:\")\n",
    "print(sp.latex(A))\n",
    "\n",
    "# Print B matrix in LaTeX\n",
    "print(\"\\nB matrix in LaTeX:\")\n",
    "print(sp.latex(B))"
   ]
  }
 ],
 "metadata": {
  "kernelspec": {
   "display_name": "base",
   "language": "python",
   "name": "python3"
  },
  "language_info": {
   "codemirror_mode": {
    "name": "ipython",
    "version": 3
   },
   "file_extension": ".py",
   "mimetype": "text/x-python",
   "name": "python",
   "nbconvert_exporter": "python",
   "pygments_lexer": "ipython3",
   "version": "3.12.2"
  }
 },
 "nbformat": 4,
 "nbformat_minor": 2
}
