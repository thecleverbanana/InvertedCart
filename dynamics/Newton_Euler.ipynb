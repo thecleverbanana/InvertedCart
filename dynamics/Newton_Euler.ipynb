{
 "cells": [
  {
   "cell_type": "code",
   "execution_count": 18,
   "metadata": {},
   "outputs": [],
   "source": [
    "from IPython.display import display\n",
    "import sympy as sp"
   ]
  },
  {
   "cell_type": "markdown",
   "metadata": {},
   "source": [
    "## Newton-Eucler Calculator"
   ]
  },
  {
   "cell_type": "markdown",
   "metadata": {},
   "source": [
    "### Define Symbols and Equations"
   ]
  },
  {
   "cell_type": "code",
   "execution_count": 19,
   "metadata": {},
   "outputs": [],
   "source": [
    "#Unkown Parameters\n",
    "aBx, aBy, Fx, Fy, f, aWx, bW, ddphi = sp.symbols('a_Bx a_By F_x F_y f a_Wx b_W ddphi')"
   ]
  },
  {
   "cell_type": "code",
   "execution_count": 20,
   "metadata": {},
   "outputs": [],
   "source": [
    "# Physics Parameters(Knwon)\n",
    "r, Mb, rb, Ib, Mw, Iw, g, tau, phi, dphi= sp.symbols('r M_b r_b I_b M_w I_w g tau phi dphi')"
   ]
  },
  {
   "cell_type": "markdown",
   "metadata": {},
   "source": [
    "##### Newton Euler Equations"
   ]
  },
  {
   "cell_type": "code",
   "execution_count": 21,
   "metadata": {},
   "outputs": [],
   "source": [
    "eq1 = sp.Eq(aBx, Fx / Mb)\n",
    "eq2 = sp.Eq(aBy, (Fy - Mb * g) / Mb)\n",
    "eq3 = sp.Eq(ddphi, (Fy * rb * sp.sin(phi) - Fx * rb * sp.cos(phi) + tau) / Ib)\n",
    "\n",
    "eq4 = sp.Eq(aWx, (f - Fx) / Mw)\n",
    "eq5 = sp.Eq(bW, (-tau - f * r) / Iw)"
   ]
  },
  {
   "cell_type": "markdown",
   "metadata": {},
   "source": [
    "##### Constraints Equations"
   ]
  },
  {
   "cell_type": "code",
   "execution_count": 22,
   "metadata": {},
   "outputs": [],
   "source": [
    "eq6 = sp.Eq(aWx, aBx + (dphi ** 2) * rb * sp.sin(phi) - ddphi * rb * sp.cos(phi))\n",
    "eq7 = sp.Eq(0, aBy + (dphi ** 2) * rb * sp.cos(phi) + ddphi * rb * sp.sin(phi))\n",
    "eq8 = sp.Eq(aWx, bW * r)"
   ]
  },
  {
   "cell_type": "markdown",
   "metadata": {},
   "source": [
    "### Solve for equations"
   ]
  },
  {
   "cell_type": "markdown",
   "metadata": {},
   "source": [
    "#### Get rid of bW"
   ]
  },
  {
   "cell_type": "code",
   "execution_count": 23,
   "metadata": {},
   "outputs": [
    {
     "data": {
      "text/latex": [
       "$\\displaystyle a_{Wx} = \\frac{r \\left(- f r - \\tau\\right)}{I_{w}}$"
      ],
      "text/plain": [
       "Eq(a_Wx, r*(-f*r - tau)/I_w)"
      ]
     },
     "metadata": {},
     "output_type": "display_data"
    }
   ],
   "source": [
    "bW_expr = sp.solve(eq5, bW)[0]\n",
    "eq8_sub = eq8.subs(bW, bW_expr)\n",
    "display(eq8_sub)"
   ]
  },
  {
   "cell_type": "markdown",
   "metadata": {},
   "source": [
    "#### Get Rid of f"
   ]
  },
  {
   "cell_type": "code",
   "execution_count": 24,
   "metadata": {},
   "outputs": [
    {
     "data": {
      "text/latex": [
       "$\\displaystyle a_{Wx} = \\frac{r \\left(- r \\left(F_{x} + M_{w} a_{Wx}\\right) - \\tau\\right)}{I_{w}}$"
      ],
      "text/plain": [
       "Eq(a_Wx, r*(-r*(F_x + M_w*a_Wx) - tau)/I_w)"
      ]
     },
     "metadata": {},
     "output_type": "display_data"
    }
   ],
   "source": [
    "f_expr = sp.solve(eq4, f)[0]\n",
    "eq8_sub_sub = eq8_sub.subs(f, f_expr)\n",
    "display(eq8_sub_sub)"
   ]
  },
  {
   "cell_type": "markdown",
   "metadata": {},
   "source": [
    "#### Get Rid of aBx and aBy"
   ]
  },
  {
   "cell_type": "code",
   "execution_count": 25,
   "metadata": {},
   "outputs": [
    {
     "data": {
      "text/latex": [
       "$\\displaystyle a_{Wx} = \\frac{F_{x}}{M_{b}} - ddphi r_{b} \\cos{\\left(\\phi \\right)} + dphi^{2} r_{b} \\sin{\\left(\\phi \\right)}$"
      ],
      "text/plain": [
       "Eq(a_Wx, F_x/M_b - ddphi*r_b*cos(phi) + dphi**2*r_b*sin(phi))"
      ]
     },
     "metadata": {},
     "output_type": "display_data"
    },
    {
     "data": {
      "text/latex": [
       "$\\displaystyle 0 = \\frac{F_{y}}{M_{b}} + ddphi r_{b} \\sin{\\left(\\phi \\right)} + dphi^{2} r_{b} \\cos{\\left(\\phi \\right)} - g$"
      ],
      "text/plain": [
       "Eq(0, F_y/M_b + ddphi*r_b*sin(phi) + dphi**2*r_b*cos(phi) - g)"
      ]
     },
     "metadata": {},
     "output_type": "display_data"
    }
   ],
   "source": [
    "aBx_expr = sp.solve(eq1, aBx)[0] \n",
    "aBy_expr = sp.solve(eq2, aBy)[0]\n",
    "eq6_sub = eq6.subs(aBx, aBx_expr)\n",
    "eq7_sub = eq7.subs(aBy, aBy_expr)\n",
    "display(eq6_sub)\n",
    "display(eq7_sub)"
   ]
  },
  {
   "cell_type": "markdown",
   "metadata": {},
   "source": [
    "#### Get Rid of Fx and Fy"
   ]
  },
  {
   "cell_type": "code",
   "execution_count": 26,
   "metadata": {},
   "outputs": [
    {
     "data": {
      "text/latex": [
       "$\\displaystyle M_{b} \\left(a_{Wx} + ddphi r_{b} \\cos{\\left(\\phi \\right)} - dphi^{2} r_{b} \\sin{\\left(\\phi \\right)}\\right)$"
      ],
      "text/plain": [
       "M_b*(a_Wx + ddphi*r_b*cos(phi) - dphi**2*r_b*sin(phi))"
      ]
     },
     "metadata": {},
     "output_type": "display_data"
    },
    {
     "data": {
      "text/latex": [
       "$\\displaystyle M_{b} \\left(- ddphi r_{b} \\sin{\\left(\\phi \\right)} - dphi^{2} r_{b} \\cos{\\left(\\phi \\right)} + g\\right)$"
      ],
      "text/plain": [
       "M_b*(-ddphi*r_b*sin(phi) - dphi**2*r_b*cos(phi) + g)"
      ]
     },
     "metadata": {},
     "output_type": "display_data"
    },
    {
     "data": {
      "text/latex": [
       "$\\displaystyle ddphi = \\frac{- M_{b} r_{b} \\left(a_{Wx} + ddphi r_{b} \\cos{\\left(\\phi \\right)} - dphi^{2} r_{b} \\sin{\\left(\\phi \\right)}\\right) \\cos{\\left(\\phi \\right)} + M_{b} r_{b} \\left(- ddphi r_{b} \\sin{\\left(\\phi \\right)} - dphi^{2} r_{b} \\cos{\\left(\\phi \\right)} + g\\right) \\sin{\\left(\\phi \\right)} + \\tau}{I_{b}}$"
      ],
      "text/plain": [
       "Eq(ddphi, (-M_b*r_b*(a_Wx + ddphi*r_b*cos(phi) - dphi**2*r_b*sin(phi))*cos(phi) + M_b*r_b*(-ddphi*r_b*sin(phi) - dphi**2*r_b*cos(phi) + g)*sin(phi) + tau)/I_b)"
      ]
     },
     "metadata": {},
     "output_type": "display_data"
    },
    {
     "data": {
      "text/latex": [
       "$\\displaystyle a_{Wx} = \\frac{r \\left(- r \\left(M_{b} \\left(a_{Wx} + ddphi r_{b} \\cos{\\left(\\phi \\right)} - dphi^{2} r_{b} \\sin{\\left(\\phi \\right)}\\right) + M_{w} a_{Wx}\\right) - \\tau\\right)}{I_{w}}$"
      ],
      "text/plain": [
       "Eq(a_Wx, r*(-r*(M_b*(a_Wx + ddphi*r_b*cos(phi) - dphi**2*r_b*sin(phi)) + M_w*a_Wx) - tau)/I_w)"
      ]
     },
     "metadata": {},
     "output_type": "display_data"
    }
   ],
   "source": [
    "Fx_expr = sp.solve(eq6_sub,Fx)[0]\n",
    "Fy_expr = sp.solve(eq7_sub,Fy)[0]\n",
    "display(Fx_expr)\n",
    "display(Fy_expr)\n",
    "eq3_sub = eq3.subs(Fx, Fx_expr)\n",
    "eq3_sub = eq3_sub.subs(Fy, Fy_expr)\n",
    "display(eq3_sub)\n",
    "eq8_sub_sub_sub = eq8_sub_sub.subs(Fx, Fx_expr)\n",
    "display(eq8_sub_sub_sub)"
   ]
  },
  {
   "cell_type": "code",
   "execution_count": 27,
   "metadata": {},
   "outputs": [
    {
     "name": "stdout",
     "output_type": "stream",
     "text": [
      "Eq(ddphi, (-M_b*r_b*(a_Wx + ddphi*r_b*cos(phi) - dphi**2*r_b*sin(phi))*cos(phi) + M_b*r_b*(-ddphi*r_b*sin(phi) - dphi**2*r_b*cos(phi) + g)*sin(phi) + tau)/I_b)\n",
      "Eq(a_Wx, r*(-r*(M_b*(a_Wx + ddphi*r_b*cos(phi) - dphi**2*r_b*sin(phi)) + M_w*a_Wx) - tau)/I_w)\n"
     ]
    }
   ],
   "source": [
    "print(eq3_sub)\n",
    "print(eq8_sub_sub_sub)"
   ]
  },
  {
   "cell_type": "markdown",
   "metadata": {},
   "source": [
    "### Linearization"
   ]
  },
  {
   "cell_type": "markdown",
   "metadata": {},
   "source": [
    "#### Express the solved ddtheta and ddx "
   ]
  },
  {
   "cell_type": "code",
   "execution_count": 28,
   "metadata": {},
   "outputs": [
    {
     "data": {
      "text/latex": [
       "$\\displaystyle \\frac{r \\left(I_{b} M_{b} dphi^{2} r r_{b} \\sin{\\left(\\phi \\right)} - I_{b} \\tau + M_{b}^{2} dphi^{2} r r_{b}^{3} \\sin{\\left(\\phi \\right)} - \\frac{M_{b}^{2} g r r_{b}^{2} \\sin{\\left(2 \\phi \\right)}}{2} - M_{b} r r_{b} \\tau \\cos{\\left(\\phi \\right)} - M_{b} r_{b}^{2} \\tau\\right)}{I_{b} I_{w} + I_{b} M_{b} r^{2} + I_{b} M_{w} r^{2} + I_{w} M_{b} r_{b}^{2} + M_{b}^{2} r^{2} r_{b}^{2} \\sin^{2}{\\left(\\phi \\right)} + M_{b} M_{w} r^{2} r_{b}^{2}}$"
      ],
      "text/plain": [
       "r*(I_b*M_b*dphi**2*r*r_b*sin(phi) - I_b*tau + M_b**2*dphi**2*r*r_b**3*sin(phi) - M_b**2*g*r*r_b**2*sin(2*phi)/2 - M_b*r*r_b*tau*cos(phi) - M_b*r_b**2*tau)/(I_b*I_w + I_b*M_b*r**2 + I_b*M_w*r**2 + I_w*M_b*r_b**2 + M_b**2*r**2*r_b**2*sin(phi)**2 + M_b*M_w*r**2*r_b**2)"
      ]
     },
     "metadata": {},
     "output_type": "display_data"
    },
    {
     "data": {
      "text/latex": [
       "$\\displaystyle \\frac{I_{w} M_{b} g r_{b} \\sin{\\left(\\phi \\right)} + I_{w} \\tau - \\frac{M_{b}^{2} dphi^{2} r^{2} r_{b}^{2} \\sin{\\left(2 \\phi \\right)}}{2} + M_{b}^{2} g r^{2} r_{b} \\sin{\\left(\\phi \\right)} + M_{b} M_{w} g r^{2} r_{b} \\sin{\\left(\\phi \\right)} + M_{b} r^{2} \\tau + M_{b} r r_{b} \\tau \\cos{\\left(\\phi \\right)} + M_{w} r^{2} \\tau}{I_{b} I_{w} + I_{b} M_{b} r^{2} + I_{b} M_{w} r^{2} + I_{w} M_{b} r_{b}^{2} + M_{b}^{2} r^{2} r_{b}^{2} \\sin^{2}{\\left(\\phi \\right)} + M_{b} M_{w} r^{2} r_{b}^{2}}$"
      ],
      "text/plain": [
       "(I_w*M_b*g*r_b*sin(phi) + I_w*tau - M_b**2*dphi**2*r**2*r_b**2*sin(2*phi)/2 + M_b**2*g*r**2*r_b*sin(phi) + M_b*M_w*g*r**2*r_b*sin(phi) + M_b*r**2*tau + M_b*r*r_b*tau*cos(phi) + M_w*r**2*tau)/(I_b*I_w + I_b*M_b*r**2 + I_b*M_w*r**2 + I_w*M_b*r_b**2 + M_b**2*r**2*r_b**2*sin(phi)**2 + M_b*M_w*r**2*r_b**2)"
      ]
     },
     "metadata": {},
     "output_type": "display_data"
    }
   ],
   "source": [
    "\n",
    "sol = sp.solve([eq3_sub, eq8_sub_sub_sub], [aWx, ddphi], simplify=True, rational=True)\n",
    "ddx_solve = sol[aWx]\n",
    "ddtheta_solve = sol[ddphi]\n",
    "display(ddx_solve)\n",
    "display(ddtheta_solve)\n"
   ]
  },
  {
   "cell_type": "code",
   "execution_count": 29,
   "metadata": {},
   "outputs": [
    {
     "name": "stdout",
     "output_type": "stream",
     "text": [
      "r*(I_b*M_b*dphi**2*r*r_b*sin(phi) - I_b*tau + M_b**2*dphi**2*r*r_b**3*sin(phi) - M_b**2*g*r*r_b**2*sin(2*phi)/2 - M_b*r*r_b*tau*cos(phi) - M_b*r_b**2*tau)/(I_b*I_w + I_b*M_b*r**2 + I_b*M_w*r**2 + I_w*M_b*r_b**2 + M_b**2*r**2*r_b**2*sin(phi)**2 + M_b*M_w*r**2*r_b**2)\n",
      "(I_w*M_b*g*r_b*sin(phi) + I_w*tau - M_b**2*dphi**2*r**2*r_b**2*sin(2*phi)/2 + M_b**2*g*r**2*r_b*sin(phi) + M_b*M_w*g*r**2*r_b*sin(phi) + M_b*r**2*tau + M_b*r*r_b*tau*cos(phi) + M_w*r**2*tau)/(I_b*I_w + I_b*M_b*r**2 + I_b*M_w*r**2 + I_w*M_b*r_b**2 + M_b**2*r**2*r_b**2*sin(phi)**2 + M_b*M_w*r**2*r_b**2)\n"
     ]
    }
   ],
   "source": [
    "print(ddx_solve)\n",
    "print(ddtheta_solve)"
   ]
  },
  {
   "cell_type": "markdown",
   "metadata": {},
   "source": [
    "#### Convert to solvable format for sympy"
   ]
  },
  {
   "cell_type": "code",
   "execution_count": 32,
   "metadata": {},
   "outputs": [
    {
     "name": "stdout",
     "output_type": "stream",
     "text": [
      "A matrix in LaTeX:\n",
      "\\left[\\begin{matrix}0 & 1 & 0 & 0\\\\0 & 0 & - \\frac{M_{b}^{2} g r^{2} r_{b}^{2}}{I_{b} I_{w} + I_{b} M_{b} r^{2} + I_{b} M_{w} r^{2} + I_{w} M_{b} r_{b}^{2} + M_{b} M_{w} r^{2} r_{b}^{2}} & 0\\\\0 & 0 & 0 & 1\\\\0 & 0 & \\frac{I_{w} M_{b} g r_{b} + M_{b}^{2} g r^{2} r_{b} + M_{b} M_{w} g r^{2} r_{b}}{I_{b} I_{w} + I_{b} M_{b} r^{2} + I_{b} M_{w} r^{2} + I_{w} M_{b} r_{b}^{2} + M_{b} M_{w} r^{2} r_{b}^{2}} & 0\\end{matrix}\\right]\n",
      "\n",
      "B matrix in LaTeX:\n",
      "\\left[\\begin{matrix}0\\\\\\frac{r \\left(- I_{b} - M_{b} r r_{b} - M_{b} r_{b}^{2}\\right)}{I_{b} I_{w} + I_{b} M_{b} r^{2} + I_{b} M_{w} r^{2} + I_{w} M_{b} r_{b}^{2} + M_{b} M_{w} r^{2} r_{b}^{2}}\\\\0\\\\\\frac{I_{w} + M_{b} r^{2} + M_{b} r r_{b} + M_{w} r^{2}}{I_{b} I_{w} + I_{b} M_{b} r^{2} + I_{b} M_{w} r^{2} + I_{w} M_{b} r_{b}^{2} + M_{b} M_{w} r^{2} r_{b}^{2}}\\end{matrix}\\right]\n"
     ]
    }
   ],
   "source": [
    "#Define constant tau0\n",
    "tau0 = sp.symbols('tau0') \n",
    "x, dx, theta, dtheta,ddtheta = sp.symbols('x dx theta dtheta ddtheta')\n",
    "\n",
    "# State vector\n",
    "X = sp.Matrix([x, dx, theta, dtheta])\n",
    "\n",
    "ddx_solve = ddx_solve.subs(phi, theta)\n",
    "ddx_solve = ddx_solve.subs(dphi, dtheta)\n",
    "ddtheta_solve = ddtheta_solve.subs(phi, theta)\n",
    "ddtheta_solve = ddtheta_solve.subs(dphi, dtheta)\n",
    "# Dynamics vector\n",
    "dX = sp.Matrix([dx, ddx_solve, dtheta, ddtheta_solve])\n",
    "\n",
    "# Equilibrium point\n",
    "eq_point = {\n",
    "    x: 0, dx: 0, theta: 0, dtheta: 0, ddtheta: 0, tau: tau0\n",
    "}\n",
    "\n",
    "\n",
    "# Compute Jacobians and evaluate at equilibrium\n",
    "A = dX.jacobian(X).subs(eq_point)\n",
    "B = dX.jacobian([tau]).subs(eq_point)\n",
    "\n",
    "# Print A matrix in LaTeX\n",
    "print(\"A matrix in LaTeX:\")\n",
    "print(sp.latex(A))\n",
    "\n",
    "# Print B matrix in LaTeX\n",
    "print(\"\\nB matrix in LaTeX:\")\n",
    "print(sp.latex(B))"
   ]
  },
  {
   "cell_type": "markdown",
   "metadata": {},
   "source": [
    "#### Convert to LQR calculation"
   ]
  },
  {
   "cell_type": "code",
   "execution_count": null,
   "metadata": {},
   "outputs": [],
   "source": [
    "r_new, Mb, rb, Ib, Mw, Iw, g_new = sp.symbols('r Mb rb Ib Mw Iw g')\n",
    "\n",
    "replace_dict = {\n",
    "    sp.Symbol('M_b'): Mb,\n",
    "    sp.Symbol('r_b'): rb,\n",
    "    sp.Symbol('I_b'): Ib,\n",
    "    sp.Symbol('M_w'): Mw,\n",
    "    sp.Symbol('I_w'): Iw,\n",
    "    sp.Symbol('r'): r_new,\n",
    "    sp.Symbol('g'): g_new,\n",
    "}"
   ]
  },
  {
   "cell_type": "code",
   "execution_count": 27,
   "metadata": {},
   "outputs": [
    {
     "name": "stdout",
     "output_type": "stream",
     "text": [
      "Matrix([[0, 1, 0, 0], [-Lb**2*Mb**2*g*r/(Ib*Iw + Ib*Mb*r**2 + Ib*Mw*r**2 + Iw*Lb**2*Mb + Lb**2*Mb*Mw*r**2), 0, -Lb**2*Mb**2*g*r**2/(Ib*Iw + Ib*Mb*r**2 + Ib*Mw*r**2 + Iw*Lb**2*Mb + Lb**2*Mb*Mw*r**2), 0], [0, 0, 0, 1], [(2*Iw*Lb*Mb*g + 2*Lb**2*Mb**2*g*r + 2*Lb*Mb**2*g*r**2 + 2*Lb*Mb*Mw*g*r**2)/(r*(2*Ib*Iw + 2*Ib*Mb*r**2 + 2*Ib*Mw*r**2 + 2*Iw*Lb**2*Mb + 2*Lb**2*Mb*Mw*r**2)), 0, (2*Iw*Lb*Mb*g*r + 2*Lb**2*Mb**2*g*r**2 + 2*Lb*Mb**2*g*r**3 + 2*Lb*Mb*Mw*g*r**3)/(r*(2*Ib*Iw + 2*Ib*Mb*r**2 + 2*Ib*Mw*r**2 + 2*Iw*Lb**2*Mb + 2*Lb**2*Mb*Mw*r**2)), 0]])\n",
      "Matrix([[0], [(-Ib*r - Lb**2*Mb*r - Lb*Mb*r**2)/(Ib*Iw + Ib*Mb*r**2 + Ib*Mw*r**2 + Iw*Lb**2*Mb + Lb**2*Mb*Mw*r**2)], [0], [(2*Ib*r + 2*Iw*r + 2*Lb**2*Mb*r + 4*Lb*Mb*r**2 + 2*Mb*r**3 + 2*Mw*r**3)/(r*(2*Ib*Iw + 2*Ib*Mb*r**2 + 2*Ib*Mw*r**2 + 2*Iw*Lb**2*Mb + 2*Lb**2*Mb*Mw*r**2))]])\n"
     ]
    }
   ],
   "source": [
    "print(A.xreplace(replace_dict))\n",
    "print(B.xreplace(replace_dict))"
   ]
  }
 ],
 "metadata": {
  "kernelspec": {
   "display_name": "jerry",
   "language": "python",
   "name": "python3"
  },
  "language_info": {
   "codemirror_mode": {
    "name": "ipython",
    "version": 3
   },
   "file_extension": ".py",
   "mimetype": "text/x-python",
   "name": "python",
   "nbconvert_exporter": "python",
   "pygments_lexer": "ipython3",
   "version": "3.13.2"
  }
 },
 "nbformat": 4,
 "nbformat_minor": 2
}
