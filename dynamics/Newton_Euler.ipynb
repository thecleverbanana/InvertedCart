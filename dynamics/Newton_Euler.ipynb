{
 "cells": [
  {
   "cell_type": "code",
   "execution_count": 2,
   "metadata": {},
   "outputs": [],
   "source": [
    "from IPython.display import display\n",
    "import sympy as sp"
   ]
  },
  {
   "cell_type": "markdown",
   "metadata": {},
   "source": [
    "## Newton-Eucler Calculator"
   ]
  },
  {
   "cell_type": "markdown",
   "metadata": {},
   "source": [
    "### Define Symbols and Equations"
   ]
  },
  {
   "cell_type": "code",
   "execution_count": 3,
   "metadata": {},
   "outputs": [],
   "source": [
    "#Unkown Parameters\n",
    "aBx, aBy, Fx, Fy, f, aWx, bW, ddphi = sp.symbols('a_Bx a_By F_x F_y f a_Wx b_W ddphi')"
   ]
  },
  {
   "cell_type": "code",
   "execution_count": 4,
   "metadata": {},
   "outputs": [],
   "source": [
    "# Physics Parameters(Knwon)\n",
    "r, Mb, Lb, Ib, Mw, Iw, g, tau, phi, dphi= sp.symbols('r M_b L_b I_b M_w I_w g tau phi dphi')"
   ]
  },
  {
   "cell_type": "markdown",
   "metadata": {},
   "source": [
    "##### Newton Euler Equations"
   ]
  },
  {
   "cell_type": "code",
   "execution_count": 5,
   "metadata": {},
   "outputs": [],
   "source": [
    "eq1 = sp.Eq(aBx, Fx / Mb)\n",
    "eq2 = sp.Eq(aBy, (Fy - Mb * g) / Mb)\n",
    "eq3 = sp.Eq(ddphi, (Fy * Lb * sp.sin(phi) - Fx * Lb * sp.cos(phi) + tau) / Ib)\n",
    "\n",
    "eq4 = sp.Eq(aWx, (f - Fx) / Mw)\n",
    "eq5 = sp.Eq(bW, (-tau - f * r) / Iw)"
   ]
  },
  {
   "cell_type": "markdown",
   "metadata": {},
   "source": [
    "##### Constraints Equations"
   ]
  },
  {
   "cell_type": "code",
   "execution_count": 6,
   "metadata": {},
   "outputs": [],
   "source": [
    "eq6 = sp.Eq(aWx, aBx + (dphi ** 2) * Lb * sp.sin(phi) - ddphi * Lb * sp.cos(phi))\n",
    "eq7 = sp.Eq(0, aBy + (dphi ** 2) * Lb * sp.cos(phi) + ddphi * Lb * sp.sin(phi))\n",
    "eq8 = sp.Eq(aWx, bW * r)"
   ]
  },
  {
   "cell_type": "markdown",
   "metadata": {},
   "source": [
    "### Solve for equations"
   ]
  },
  {
   "cell_type": "markdown",
   "metadata": {},
   "source": [
    "#### Get rid of bW"
   ]
  },
  {
   "cell_type": "code",
   "execution_count": 7,
   "metadata": {},
   "outputs": [
    {
     "data": {
      "text/latex": [
       "$\\displaystyle a_{Wx} = \\frac{r \\left(- f r - \\tau\\right)}{I_{w}}$"
      ],
      "text/plain": [
       "Eq(a_Wx, r*(-f*r - tau)/I_w)"
      ]
     },
     "metadata": {},
     "output_type": "display_data"
    }
   ],
   "source": [
    "bW_expr = sp.solve(eq5, bW)[0]\n",
    "eq8_sub = eq8.subs(bW, bW_expr)\n",
    "display(eq8_sub)"
   ]
  },
  {
   "cell_type": "markdown",
   "metadata": {},
   "source": [
    "#### Get Rid of f"
   ]
  },
  {
   "cell_type": "code",
   "execution_count": 8,
   "metadata": {},
   "outputs": [
    {
     "data": {
      "text/latex": [
       "$\\displaystyle a_{Wx} = \\frac{r \\left(- r \\left(F_{x} + M_{w} a_{Wx}\\right) - \\tau\\right)}{I_{w}}$"
      ],
      "text/plain": [
       "Eq(a_Wx, r*(-r*(F_x + M_w*a_Wx) - tau)/I_w)"
      ]
     },
     "metadata": {},
     "output_type": "display_data"
    }
   ],
   "source": [
    "f_expr = sp.solve(eq4, f)[0]\n",
    "eq8_sub_sub = eq8_sub.subs(f, f_expr)\n",
    "display(eq8_sub_sub)"
   ]
  },
  {
   "cell_type": "markdown",
   "metadata": {},
   "source": [
    "#### Get Rid of aBx and aBy"
   ]
  },
  {
   "cell_type": "code",
   "execution_count": 9,
   "metadata": {},
   "outputs": [
    {
     "data": {
      "text/latex": [
       "$\\displaystyle a_{Wx} = \\frac{F_{x}}{M_{b}} - L_{b} ddphi \\cos{\\left(\\phi \\right)} + L_{b} dphi^{2} \\sin{\\left(\\phi \\right)}$"
      ],
      "text/plain": [
       "Eq(a_Wx, F_x/M_b - L_b*ddphi*cos(phi) + L_b*dphi**2*sin(phi))"
      ]
     },
     "metadata": {},
     "output_type": "display_data"
    },
    {
     "data": {
      "text/latex": [
       "$\\displaystyle 0 = \\frac{F_{y}}{M_{b}} + L_{b} ddphi \\sin{\\left(\\phi \\right)} + L_{b} dphi^{2} \\cos{\\left(\\phi \\right)} - g$"
      ],
      "text/plain": [
       "Eq(0, F_y/M_b + L_b*ddphi*sin(phi) + L_b*dphi**2*cos(phi) - g)"
      ]
     },
     "metadata": {},
     "output_type": "display_data"
    }
   ],
   "source": [
    "aBx_expr = sp.solve(eq1, aBx)[0] \n",
    "aBy_expr = sp.solve(eq2, aBy)[0]\n",
    "eq6_sub = eq6.subs(aBx, aBx_expr)\n",
    "eq7_sub = eq7.subs(aBy, aBy_expr)\n",
    "display(eq6_sub)\n",
    "display(eq7_sub)"
   ]
  },
  {
   "cell_type": "markdown",
   "metadata": {},
   "source": [
    "#### Get Rid of Fx and Fy"
   ]
  },
  {
   "cell_type": "code",
   "execution_count": 10,
   "metadata": {},
   "outputs": [
    {
     "data": {
      "text/latex": [
       "$\\displaystyle M_{b} \\left(L_{b} ddphi \\cos{\\left(\\phi \\right)} - L_{b} dphi^{2} \\sin{\\left(\\phi \\right)} + a_{Wx}\\right)$"
      ],
      "text/plain": [
       "M_b*(L_b*ddphi*cos(phi) - L_b*dphi**2*sin(phi) + a_Wx)"
      ]
     },
     "metadata": {},
     "output_type": "display_data"
    },
    {
     "data": {
      "text/latex": [
       "$\\displaystyle M_{b} \\left(- L_{b} ddphi \\sin{\\left(\\phi \\right)} - L_{b} dphi^{2} \\cos{\\left(\\phi \\right)} + g\\right)$"
      ],
      "text/plain": [
       "M_b*(-L_b*ddphi*sin(phi) - L_b*dphi**2*cos(phi) + g)"
      ]
     },
     "metadata": {},
     "output_type": "display_data"
    },
    {
     "data": {
      "text/latex": [
       "$\\displaystyle ddphi = \\frac{L_{b} M_{b} \\left(- L_{b} ddphi \\sin{\\left(\\phi \\right)} - L_{b} dphi^{2} \\cos{\\left(\\phi \\right)} + g\\right) \\sin{\\left(\\phi \\right)} - L_{b} M_{b} \\left(L_{b} ddphi \\cos{\\left(\\phi \\right)} - L_{b} dphi^{2} \\sin{\\left(\\phi \\right)} + a_{Wx}\\right) \\cos{\\left(\\phi \\right)} + \\tau}{I_{b}}$"
      ],
      "text/plain": [
       "Eq(ddphi, (L_b*M_b*(-L_b*ddphi*sin(phi) - L_b*dphi**2*cos(phi) + g)*sin(phi) - L_b*M_b*(L_b*ddphi*cos(phi) - L_b*dphi**2*sin(phi) + a_Wx)*cos(phi) + tau)/I_b)"
      ]
     },
     "metadata": {},
     "output_type": "display_data"
    },
    {
     "data": {
      "text/latex": [
       "$\\displaystyle a_{Wx} = \\frac{r \\left(- r \\left(M_{b} \\left(L_{b} ddphi \\cos{\\left(\\phi \\right)} - L_{b} dphi^{2} \\sin{\\left(\\phi \\right)} + a_{Wx}\\right) + M_{w} a_{Wx}\\right) - \\tau\\right)}{I_{w}}$"
      ],
      "text/plain": [
       "Eq(a_Wx, r*(-r*(M_b*(L_b*ddphi*cos(phi) - L_b*dphi**2*sin(phi) + a_Wx) + M_w*a_Wx) - tau)/I_w)"
      ]
     },
     "metadata": {},
     "output_type": "display_data"
    }
   ],
   "source": [
    "Fx_expr = sp.solve(eq6_sub,Fx)[0]\n",
    "Fy_expr = sp.solve(eq7_sub,Fy)[0]\n",
    "display(Fx_expr)\n",
    "display(Fy_expr)\n",
    "eq3_sub = eq3.subs(Fx, Fx_expr)\n",
    "eq3_sub = eq3_sub.subs(Fy, Fy_expr)\n",
    "display(eq3_sub)\n",
    "eq8_sub_sub_sub = eq8_sub_sub.subs(Fx, Fx_expr)\n",
    "display(eq8_sub_sub_sub)"
   ]
  },
  {
   "cell_type": "code",
   "execution_count": 11,
   "metadata": {},
   "outputs": [
    {
     "name": "stdout",
     "output_type": "stream",
     "text": [
      "Eq(ddphi, (L_b*M_b*(-L_b*ddphi*sin(phi) - L_b*dphi**2*cos(phi) + g)*sin(phi) - L_b*M_b*(L_b*ddphi*cos(phi) - L_b*dphi**2*sin(phi) + a_Wx)*cos(phi) + tau)/I_b)\n",
      "Eq(a_Wx, r*(-r*(M_b*(L_b*ddphi*cos(phi) - L_b*dphi**2*sin(phi) + a_Wx) + M_w*a_Wx) - tau)/I_w)\n"
     ]
    }
   ],
   "source": [
    "print(eq3_sub)\n",
    "print(eq8_sub_sub_sub)"
   ]
  },
  {
   "cell_type": "markdown",
   "metadata": {},
   "source": [
    "### Linearization"
   ]
  },
  {
   "cell_type": "markdown",
   "metadata": {},
   "source": [
    "#### Express the solved ddtheta and ddx "
   ]
  },
  {
   "cell_type": "code",
   "execution_count": 12,
   "metadata": {},
   "outputs": [
    {
     "name": "stdout",
     "output_type": "stream",
     "text": [
      "                        ⎛                                                    2 ↪\n",
      "                        ⎜      ⎛          ddx⎞    ⎛    x⎞       ⎛         dx⎞  ↪\n",
      "                L_b⋅M_b⋅⎜- L_b⋅⎜ddtheta + ───⎟⋅sin⎜θ + ─⎟ - L_b⋅⎜dtheta + ──⎟  ↪\n",
      "          ddx           ⎝      ⎝           r ⎠    ⎝    r⎠       ⎝         r ⎠  ↪\n",
      "ddtheta + ─── = ────────────────────────────────────────────────────────────── ↪\n",
      "           r                                                                   ↪\n",
      "\n",
      "↪                ⎞                      ⎛                                      ↪\n",
      "↪     ⎛    x⎞    ⎟    ⎛    x⎞           ⎜    ⎛          ddx⎞    ⎛    x⎞        ↪\n",
      "↪ ⋅cos⎜θ + ─⎟ + g⎟⋅sin⎜θ + ─⎟ - L_b⋅M_b⋅⎜L_b⋅⎜ddtheta + ───⎟⋅cos⎜θ + ─⎟ - L_b⋅ ↪\n",
      "↪     ⎝    r⎠    ⎠    ⎝    r⎠           ⎝    ⎝           r ⎠    ⎝    r⎠        ↪\n",
      "↪ ──────────────────────────────────────────────────────────────────────────── ↪\n",
      "↪                              I_b                                             ↪\n",
      "\n",
      "↪              2                 ⎞               \n",
      "↪ ⎛         dx⎞     ⎛    x⎞      ⎟    ⎛    x⎞    \n",
      "↪ ⎜dtheta + ──⎟ ⋅sin⎜θ + ─⎟ + ddx⎟⋅cos⎜θ + ─⎟ + τ\n",
      "↪ ⎝         r ⎠     ⎝    r⎠      ⎠    ⎝    r⎠    \n",
      "↪ ───────────────────────────────────────────────\n",
      "↪                                                \n",
      "        ⎛    ⎛    ⎛                                                  2         ↪\n",
      "        ⎜    ⎜    ⎜    ⎛          ddx⎞    ⎛    x⎞       ⎛         dx⎞     ⎛    ↪\n",
      "      r⋅⎜- r⋅⎜M_b⋅⎜L_b⋅⎜ddtheta + ───⎟⋅cos⎜θ + ─⎟ - L_b⋅⎜dtheta + ──⎟ ⋅sin⎜θ + ↪\n",
      "        ⎝    ⎝    ⎝    ⎝           r ⎠    ⎝    r⎠       ⎝         r ⎠     ⎝    ↪\n",
      "ddx = ──────────────────────────────────────────────────────────────────────── ↪\n",
      "                                                     I_w                       ↪\n",
      "\n",
      "↪          ⎞          ⎞    ⎞\n",
      "↪  x⎞      ⎟          ⎟    ⎟\n",
      "↪  ─⎟ + ddx⎟ + M_w⋅ddx⎟ - τ⎟\n",
      "↪  r⎠      ⎠          ⎠    ⎠\n",
      "↪ ──────────────────────────\n",
      "↪                           \n"
     ]
    }
   ],
   "source": [
    "x, dx, ddx, theta, dtheta, ddtheta = sp.symbols('x dx ddx theta dtheta ddtheta')\n",
    "\n",
    "sub_dic = {\n",
    "    phi: (x / r + theta),\n",
    "    dphi: (dx / r + dtheta),\n",
    "    ddphi: (ddx / r + ddtheta),\n",
    "    aWx: ddx\n",
    "}\n",
    "\n",
    "linearization_eq1 = eq3_sub.subs(sub_dic)\n",
    "linearization_eq2 = eq8_sub_sub_sub.subs(sub_dic)\n",
    "\n",
    "sp.pprint(linearization_eq1)\n",
    "sp.pprint(linearization_eq2)\n"
   ]
  },
  {
   "cell_type": "code",
   "execution_count": 14,
   "metadata": {},
   "outputs": [
    {
     "data": {
      "text/latex": [
       "$\\displaystyle \\frac{I_{b} L_{b} M_{b} dtheta^{2} r^{2} \\sin{\\left(\\theta + \\frac{x}{r} \\right)} + 2 I_{b} L_{b} M_{b} dtheta dx r \\sin{\\left(\\theta + \\frac{x}{r} \\right)} + I_{b} L_{b} M_{b} dx^{2} \\sin{\\left(\\theta + \\frac{x}{r} \\right)} - I_{b} r \\tau + L_{b}^{3} M_{b}^{2} dtheta^{2} r^{2} \\sin{\\left(\\theta + \\frac{x}{r} \\right)} + 2 L_{b}^{3} M_{b}^{2} dtheta dx r \\sin{\\left(\\theta + \\frac{x}{r} \\right)} + L_{b}^{3} M_{b}^{2} dx^{2} \\sin{\\left(\\theta + \\frac{x}{r} \\right)} - \\frac{L_{b}^{2} M_{b}^{2} g r^{2} \\sin{\\left(2 \\theta + \\frac{2 x}{r} \\right)}}{2} - L_{b}^{2} M_{b} r \\tau - L_{b} M_{b} r^{2} \\tau \\cos{\\left(\\theta + \\frac{x}{r} \\right)}}{I_{b} I_{w} + I_{b} M_{b} r^{2} + I_{b} M_{w} r^{2} + I_{w} L_{b}^{2} M_{b} \\sin^{2}{\\left(\\theta + \\frac{x}{r} \\right)} + I_{w} L_{b}^{2} M_{b} \\cos^{2}{\\left(\\theta + \\frac{x}{r} \\right)} + L_{b}^{2} M_{b}^{2} r^{2} \\sin^{2}{\\left(\\theta + \\frac{x}{r} \\right)} + L_{b}^{2} M_{b} M_{w} r^{2} \\sin^{2}{\\left(\\theta + \\frac{x}{r} \\right)} + L_{b}^{2} M_{b} M_{w} r^{2} \\cos^{2}{\\left(\\theta + \\frac{x}{r} \\right)}}$"
      ],
      "text/plain": [
       "(I_b*L_b*M_b*dtheta**2*r**2*sin(theta + x/r) + 2*I_b*L_b*M_b*dtheta*dx*r*sin(theta + x/r) + I_b*L_b*M_b*dx**2*sin(theta + x/r) - I_b*r*tau + L_b**3*M_b**2*dtheta**2*r**2*sin(theta + x/r) + 2*L_b**3*M_b**2*dtheta*dx*r*sin(theta + x/r) + L_b**3*M_b**2*dx**2*sin(theta + x/r) - L_b**2*M_b**2*g*r**2*sin(2*theta + 2*x/r)/2 - L_b**2*M_b*r*tau - L_b*M_b*r**2*tau*cos(theta + x/r))/(I_b*I_w + I_b*M_b*r**2 + I_b*M_w*r**2 + I_w*L_b**2*M_b*sin(theta + x/r)**2 + I_w*L_b**2*M_b*cos(theta + x/r)**2 + L_b**2*M_b**2*r**2*sin(theta + x/r)**2 + L_b**2*M_b*M_w*r**2*sin(theta + x/r)**2 + L_b**2*M_b*M_w*r**2*cos(theta + x/r)**2)"
      ]
     },
     "metadata": {},
     "output_type": "display_data"
    },
    {
     "data": {
      "text/latex": [
       "$\\displaystyle \\frac{- 2 I_{b} L_{b} M_{b} dtheta^{2} r^{2} \\sin{\\left(\\theta + \\frac{x}{r} \\right)} - 4 I_{b} L_{b} M_{b} dtheta dx r \\sin{\\left(\\theta + \\frac{x}{r} \\right)} - 2 I_{b} L_{b} M_{b} dx^{2} \\sin{\\left(\\theta + \\frac{x}{r} \\right)} + 2 I_{b} r \\tau + 2 I_{w} L_{b} M_{b} g r \\sin{\\left(\\theta + \\frac{x}{r} \\right)} + 2 I_{w} r \\tau - 2 L_{b}^{3} M_{b}^{2} dtheta^{2} r^{2} \\sin{\\left(\\theta + \\frac{x}{r} \\right)} - 4 L_{b}^{3} M_{b}^{2} dtheta dx r \\sin{\\left(\\theta + \\frac{x}{r} \\right)} - 2 L_{b}^{3} M_{b}^{2} dx^{2} \\sin{\\left(\\theta + \\frac{x}{r} \\right)} - L_{b}^{2} M_{b}^{2} dtheta^{2} r^{3} \\sin{\\left(2 \\theta + \\frac{2 x}{r} \\right)} - 2 L_{b}^{2} M_{b}^{2} dtheta dx r^{2} \\sin{\\left(2 \\theta + \\frac{2 x}{r} \\right)} - L_{b}^{2} M_{b}^{2} dx^{2} r \\sin{\\left(2 \\theta + \\frac{2 x}{r} \\right)} + L_{b}^{2} M_{b}^{2} g r^{2} \\sin{\\left(2 \\theta + \\frac{2 x}{r} \\right)} + 2 L_{b}^{2} M_{b} r \\tau + 2 L_{b} M_{b}^{2} g r^{3} \\sin{\\left(\\theta + \\frac{x}{r} \\right)} + 2 L_{b} M_{b} M_{w} g r^{3} \\sin{\\left(\\theta + \\frac{x}{r} \\right)} + 4 L_{b} M_{b} r^{2} \\tau \\cos{\\left(\\theta + \\frac{x}{r} \\right)} + 2 M_{b} r^{3} \\tau + 2 M_{w} r^{3} \\tau}{r \\left(2 I_{b} I_{w} + 2 I_{b} M_{b} r^{2} + 2 I_{b} M_{w} r^{2} + 2 I_{w} L_{b}^{2} M_{b} - L_{b}^{2} M_{b}^{2} r^{2} \\cos{\\left(2 \\theta + \\frac{2 x}{r} \\right)} + L_{b}^{2} M_{b}^{2} r^{2} + 2 L_{b}^{2} M_{b} M_{w} r^{2}\\right)}$"
      ],
      "text/plain": [
       "(-2*I_b*L_b*M_b*dtheta**2*r**2*sin(theta + x/r) - 4*I_b*L_b*M_b*dtheta*dx*r*sin(theta + x/r) - 2*I_b*L_b*M_b*dx**2*sin(theta + x/r) + 2*I_b*r*tau + 2*I_w*L_b*M_b*g*r*sin(theta + x/r) + 2*I_w*r*tau - 2*L_b**3*M_b**2*dtheta**2*r**2*sin(theta + x/r) - 4*L_b**3*M_b**2*dtheta*dx*r*sin(theta + x/r) - 2*L_b**3*M_b**2*dx**2*sin(theta + x/r) - L_b**2*M_b**2*dtheta**2*r**3*sin(2*theta + 2*x/r) - 2*L_b**2*M_b**2*dtheta*dx*r**2*sin(2*theta + 2*x/r) - L_b**2*M_b**2*dx**2*r*sin(2*theta + 2*x/r) + L_b**2*M_b**2*g*r**2*sin(2*theta + 2*x/r) + 2*L_b**2*M_b*r*tau + 2*L_b*M_b**2*g*r**3*sin(theta + x/r) + 2*L_b*M_b*M_w*g*r**3*sin(theta + x/r) + 4*L_b*M_b*r**2*tau*cos(theta + x/r) + 2*M_b*r**3*tau + 2*M_w*r**3*tau)/(r*(2*I_b*I_w + 2*I_b*M_b*r**2 + 2*I_b*M_w*r**2 + 2*I_w*L_b**2*M_b - L_b**2*M_b**2*r**2*cos(2*theta + 2*x/r) + L_b**2*M_b**2*r**2 + 2*L_b**2*M_b*M_w*r**2))"
      ]
     },
     "metadata": {},
     "output_type": "display_data"
    }
   ],
   "source": [
    "#linearization_eq1_simplified = sp.simplify(linearization_eq1)\n",
    "#linearization_eq2_simplified = sp.simplify(linearization_eq2)\n",
    "linearization_eq1_simplified = linearization_eq1\n",
    "linearization_eq2_simplified = linearization_eq2\n",
    "\n",
    "sol = sp.solve([linearization_eq1_simplified, linearization_eq2_simplified], [ddx, ddtheta], simplify=True, rational=True)\n",
    "ddx_solve = sol[ddx]\n",
    "ddtheta_solve = sol[ddtheta]\n",
    "display(ddx_solve)\n",
    "display(ddtheta_solve)\n"
   ]
  },
  {
   "cell_type": "code",
   "execution_count": 15,
   "metadata": {},
   "outputs": [
    {
     "name": "stdout",
     "output_type": "stream",
     "text": [
      "(I_b*L_b*M_b*dtheta**2*r**2*sin(theta + x/r) + 2*I_b*L_b*M_b*dtheta*dx*r*sin(theta + x/r) + I_b*L_b*M_b*dx**2*sin(theta + x/r) - I_b*r*tau + L_b**3*M_b**2*dtheta**2*r**2*sin(theta + x/r) + 2*L_b**3*M_b**2*dtheta*dx*r*sin(theta + x/r) + L_b**3*M_b**2*dx**2*sin(theta + x/r) - L_b**2*M_b**2*g*r**2*sin(2*theta + 2*x/r)/2 - L_b**2*M_b*r*tau - L_b*M_b*r**2*tau*cos(theta + x/r))/(I_b*I_w + I_b*M_b*r**2 + I_b*M_w*r**2 + I_w*L_b**2*M_b*sin(theta + x/r)**2 + I_w*L_b**2*M_b*cos(theta + x/r)**2 + L_b**2*M_b**2*r**2*sin(theta + x/r)**2 + L_b**2*M_b*M_w*r**2*sin(theta + x/r)**2 + L_b**2*M_b*M_w*r**2*cos(theta + x/r)**2)\n"
     ]
    }
   ],
   "source": [
    "print(ddx_solve)"
   ]
  },
  {
   "cell_type": "markdown",
   "metadata": {},
   "source": [
    "#### Convert to solvable format for sympy"
   ]
  },
  {
   "cell_type": "code",
   "execution_count": 23,
   "metadata": {},
   "outputs": [
    {
     "name": "stdout",
     "output_type": "stream",
     "text": [
      "A matrix in LaTeX:\n",
      "\\left[\\begin{matrix}0 & 1 & 0 & 0\\\\- \\frac{L_{b}^{2} M_{b}^{2} g r}{I_{b} I_{w} + I_{b} M_{b} r^{2} + I_{b} M_{w} r^{2} + I_{w} L_{b}^{2} M_{b} + L_{b}^{2} M_{b} M_{w} r^{2}} & 0 & - \\frac{L_{b}^{2} M_{b}^{2} g r^{2}}{I_{b} I_{w} + I_{b} M_{b} r^{2} + I_{b} M_{w} r^{2} + I_{w} L_{b}^{2} M_{b} + L_{b}^{2} M_{b} M_{w} r^{2}} & 0\\\\0 & 0 & 0 & 1\\\\\\frac{2 I_{w} L_{b} M_{b} g + 2 L_{b}^{2} M_{b}^{2} g r + 2 L_{b} M_{b}^{2} g r^{2} + 2 L_{b} M_{b} M_{w} g r^{2}}{r \\left(2 I_{b} I_{w} + 2 I_{b} M_{b} r^{2} + 2 I_{b} M_{w} r^{2} + 2 I_{w} L_{b}^{2} M_{b} + 2 L_{b}^{2} M_{b} M_{w} r^{2}\\right)} & 0 & \\frac{2 I_{w} L_{b} M_{b} g r + 2 L_{b}^{2} M_{b}^{2} g r^{2} + 2 L_{b} M_{b}^{2} g r^{3} + 2 L_{b} M_{b} M_{w} g r^{3}}{r \\left(2 I_{b} I_{w} + 2 I_{b} M_{b} r^{2} + 2 I_{b} M_{w} r^{2} + 2 I_{w} L_{b}^{2} M_{b} + 2 L_{b}^{2} M_{b} M_{w} r^{2}\\right)} & 0\\end{matrix}\\right]\n",
      "\n",
      "B matrix in LaTeX:\n",
      "\\left[\\begin{matrix}0\\\\\\frac{- I_{b} r - L_{b}^{2} M_{b} r - L_{b} M_{b} r^{2}}{I_{b} I_{w} + I_{b} M_{b} r^{2} + I_{b} M_{w} r^{2} + I_{w} L_{b}^{2} M_{b} + L_{b}^{2} M_{b} M_{w} r^{2}}\\\\0\\\\\\frac{2 I_{b} r + 2 I_{w} r + 2 L_{b}^{2} M_{b} r + 4 L_{b} M_{b} r^{2} + 2 M_{b} r^{3} + 2 M_{w} r^{3}}{r \\left(2 I_{b} I_{w} + 2 I_{b} M_{b} r^{2} + 2 I_{b} M_{w} r^{2} + 2 I_{w} L_{b}^{2} M_{b} + 2 L_{b}^{2} M_{b} M_{w} r^{2}\\right)}\\end{matrix}\\right]\n"
     ]
    }
   ],
   "source": [
    "#Define constant tau0\n",
    "tau0 = sp.symbols('tau0')\n",
    "\n",
    "# State vector\n",
    "X = sp.Matrix([x, dx, theta, dtheta])\n",
    "\n",
    "# Dynamics vector\n",
    "dX = sp.Matrix([dx, ddx_solve, dtheta, ddtheta_solve])\n",
    "\n",
    "# Equilibrium point\n",
    "eq_point = {\n",
    "    x: 0, dx: 0, theta: 0, dtheta: 0, ddtheta: 0, tau: tau0\n",
    "}\n",
    "\n",
    "\n",
    "# Compute Jacobians and evaluate at equilibrium\n",
    "A = dX.jacobian(X).subs(eq_point)\n",
    "B = dX.jacobian([tau]).subs(eq_point)\n",
    "\n",
    "# Print A matrix in LaTeX\n",
    "print(\"A matrix in LaTeX:\")\n",
    "print(sp.latex(A))\n",
    "\n",
    "# Print B matrix in LaTeX\n",
    "print(\"\\nB matrix in LaTeX:\")\n",
    "print(sp.latex(B))"
   ]
  },
  {
   "cell_type": "markdown",
   "metadata": {},
   "source": [
    "#### Convert to LQR calculation"
   ]
  },
  {
   "cell_type": "code",
   "execution_count": 26,
   "metadata": {},
   "outputs": [],
   "source": [
    "r_new, Mb, Lb, Ib, Mw, Iw, g_new = sp.symbols('r Mb Lb Ib Mw Iw g')\n",
    "\n",
    "replace_dict = {\n",
    "    sp.Symbol('M_b'): Mb,\n",
    "    sp.Symbol('L_b'): Lb,\n",
    "    sp.Symbol('I_b'): Ib,\n",
    "    sp.Symbol('M_w'): Mw,\n",
    "    sp.Symbol('I_w'): Iw,\n",
    "    sp.Symbol('r'): r_new,\n",
    "    sp.Symbol('g'): g_new,\n",
    "}"
   ]
  },
  {
   "cell_type": "code",
   "execution_count": 27,
   "metadata": {},
   "outputs": [
    {
     "name": "stdout",
     "output_type": "stream",
     "text": [
      "Matrix([[0, 1, 0, 0], [-Lb**2*Mb**2*g*r/(Ib*Iw + Ib*Mb*r**2 + Ib*Mw*r**2 + Iw*Lb**2*Mb + Lb**2*Mb*Mw*r**2), 0, -Lb**2*Mb**2*g*r**2/(Ib*Iw + Ib*Mb*r**2 + Ib*Mw*r**2 + Iw*Lb**2*Mb + Lb**2*Mb*Mw*r**2), 0], [0, 0, 0, 1], [(2*Iw*Lb*Mb*g + 2*Lb**2*Mb**2*g*r + 2*Lb*Mb**2*g*r**2 + 2*Lb*Mb*Mw*g*r**2)/(r*(2*Ib*Iw + 2*Ib*Mb*r**2 + 2*Ib*Mw*r**2 + 2*Iw*Lb**2*Mb + 2*Lb**2*Mb*Mw*r**2)), 0, (2*Iw*Lb*Mb*g*r + 2*Lb**2*Mb**2*g*r**2 + 2*Lb*Mb**2*g*r**3 + 2*Lb*Mb*Mw*g*r**3)/(r*(2*Ib*Iw + 2*Ib*Mb*r**2 + 2*Ib*Mw*r**2 + 2*Iw*Lb**2*Mb + 2*Lb**2*Mb*Mw*r**2)), 0]])\n",
      "Matrix([[0], [(-Ib*r - Lb**2*Mb*r - Lb*Mb*r**2)/(Ib*Iw + Ib*Mb*r**2 + Ib*Mw*r**2 + Iw*Lb**2*Mb + Lb**2*Mb*Mw*r**2)], [0], [(2*Ib*r + 2*Iw*r + 2*Lb**2*Mb*r + 4*Lb*Mb*r**2 + 2*Mb*r**3 + 2*Mw*r**3)/(r*(2*Ib*Iw + 2*Ib*Mb*r**2 + 2*Ib*Mw*r**2 + 2*Iw*Lb**2*Mb + 2*Lb**2*Mb*Mw*r**2))]])\n"
     ]
    }
   ],
   "source": [
    "print(A.xreplace(replace_dict))\n",
    "print(B.xreplace(replace_dict))"
   ]
  }
 ],
 "metadata": {
  "kernelspec": {
   "display_name": "Python 3",
   "language": "python",
   "name": "python3"
  },
  "language_info": {
   "codemirror_mode": {
    "name": "ipython",
    "version": 3
   },
   "file_extension": ".py",
   "mimetype": "text/x-python",
   "name": "python",
   "nbconvert_exporter": "python",
   "pygments_lexer": "ipython3",
   "version": "3.9.10"
  }
 },
 "nbformat": 4,
 "nbformat_minor": 2
}
